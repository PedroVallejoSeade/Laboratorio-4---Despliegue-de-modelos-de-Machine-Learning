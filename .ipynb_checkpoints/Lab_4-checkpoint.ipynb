{
 "cells": [
  {
   "cell_type": "code",
   "execution_count": 1,
   "id": "8caf10d1",
   "metadata": {},
   "outputs": [],
   "source": [
    "# Cargar librerias\n",
    "\n",
    "import pandas as pd\n",
    "import numpy as np\n",
    "import matplotlib.pyplot as plt\n",
    "import seaborn as sns\n",
    "\n",
    "# Composicion de pipelines\n",
    "from sklearn.compose import ColumnTransformer\n",
    "from sklearn.pipeline import Pipeline\n",
    "from sklearn.impute import SimpleImputer\n",
    "from sklearn.preprocessing import PolynomialFeatures\n",
    "from sklearn.preprocessing import MinMaxScaler, FunctionTransformer\n",
    "\n",
    "# Regresion lineal\n",
    "from sklearn.linear_model import LinearRegression\n",
    "\n",
    "# Importar/ Exportar modelos\n",
    "from joblib import dump, load\n",
    "\n",
    "# Metricas\n",
    "from sklearn.metrics import mean_squared_error as mse\n",
    "\n",
    "# q-q plots\n",
    "import scipy.stats as stats"
   ]
  },
  {
   "cell_type": "code",
   "execution_count": 2,
   "id": "b65e7d4b",
   "metadata": {},
   "outputs": [
    {
     "name": "stdout",
     "output_type": "stream",
     "text": [
      "(1569, 9)\n"
     ]
    },
    {
     "data": {
      "text/html": [
       "<div>\n",
       "<style scoped>\n",
       "    .dataframe tbody tr th:only-of-type {\n",
       "        vertical-align: middle;\n",
       "    }\n",
       "\n",
       "    .dataframe tbody tr th {\n",
       "        vertical-align: top;\n",
       "    }\n",
       "\n",
       "    .dataframe thead th {\n",
       "        text-align: right;\n",
       "    }\n",
       "</style>\n",
       "<table border=\"1\" class=\"dataframe\">\n",
       "  <thead>\n",
       "    <tr style=\"text-align: right;\">\n",
       "      <th></th>\n",
       "      <th>Serial No.</th>\n",
       "      <th>GRE Score</th>\n",
       "      <th>TOEFL Score</th>\n",
       "      <th>University Rating</th>\n",
       "      <th>SOP</th>\n",
       "      <th>LOR</th>\n",
       "      <th>CGPA</th>\n",
       "      <th>Research</th>\n",
       "      <th>Admission Points</th>\n",
       "    </tr>\n",
       "  </thead>\n",
       "  <tbody>\n",
       "    <tr>\n",
       "      <th>0</th>\n",
       "      <td>479</td>\n",
       "      <td>327</td>\n",
       "      <td>113</td>\n",
       "      <td>4</td>\n",
       "      <td>4.00</td>\n",
       "      <td>2.77</td>\n",
       "      <td>8.88</td>\n",
       "      <td>1</td>\n",
       "      <td>84.47</td>\n",
       "    </tr>\n",
       "    <tr>\n",
       "      <th>1</th>\n",
       "      <td>446</td>\n",
       "      <td>301</td>\n",
       "      <td>92</td>\n",
       "      <td>1</td>\n",
       "      <td>1.85</td>\n",
       "      <td>1.50</td>\n",
       "      <td>7.71</td>\n",
       "      <td>0</td>\n",
       "      <td>45.08</td>\n",
       "    </tr>\n",
       "    <tr>\n",
       "      <th>2</th>\n",
       "      <td>336</td>\n",
       "      <td>297</td>\n",
       "      <td>100</td>\n",
       "      <td>1</td>\n",
       "      <td>2.41</td>\n",
       "      <td>1.59</td>\n",
       "      <td>7.89</td>\n",
       "      <td>0</td>\n",
       "      <td>47.42</td>\n",
       "    </tr>\n",
       "    <tr>\n",
       "      <th>3</th>\n",
       "      <td>20</td>\n",
       "      <td>303</td>\n",
       "      <td>98</td>\n",
       "      <td>3</td>\n",
       "      <td>3.50</td>\n",
       "      <td>3.00</td>\n",
       "      <td>8.50</td>\n",
       "      <td>0</td>\n",
       "      <td>62.00</td>\n",
       "    </tr>\n",
       "    <tr>\n",
       "      <th>4</th>\n",
       "      <td>432</td>\n",
       "      <td>320</td>\n",
       "      <td>94</td>\n",
       "      <td>2</td>\n",
       "      <td>1.38</td>\n",
       "      <td>3.50</td>\n",
       "      <td>8.78</td>\n",
       "      <td>1</td>\n",
       "      <td>73.00</td>\n",
       "    </tr>\n",
       "  </tbody>\n",
       "</table>\n",
       "</div>"
      ],
      "text/plain": [
       "   Serial No.  GRE Score  TOEFL Score  University Rating   SOP  LOR   CGPA  \\\n",
       "0         479        327          113                  4  4.00  2.77  8.88   \n",
       "1         446        301           92                  1  1.85  1.50  7.71   \n",
       "2         336        297          100                  1  2.41  1.59  7.89   \n",
       "3          20        303           98                  3  3.50  3.00  8.50   \n",
       "4         432        320           94                  2  1.38  3.50  8.78   \n",
       "\n",
       "   Research  Admission Points  \n",
       "0         1             84.47  \n",
       "1         0             45.08  \n",
       "2         0             47.42  \n",
       "3         0             62.00  \n",
       "4         1             73.00  "
      ]
     },
     "execution_count": 2,
     "metadata": {},
     "output_type": "execute_result"
    }
   ],
   "source": [
    "# Se cargan los datos de entrenamiento\n",
    "\n",
    "df_original = pd.read_csv('data/university_admission_train.csv', sep=',', encoding = 'utf-8', index_col=0)\n",
    "df_tracks = df_original.copy()\n",
    "print(df_tracks.shape)\n",
    "df_tracks.head(5)"
   ]
  },
  {
   "cell_type": "code",
   "execution_count": 3,
   "id": "37ed73e2",
   "metadata": {},
   "outputs": [
    {
     "name": "stdout",
     "output_type": "stream",
     "text": [
      "(175, 8)\n"
     ]
    },
    {
     "data": {
      "text/html": [
       "<div>\n",
       "<style scoped>\n",
       "    .dataframe tbody tr th:only-of-type {\n",
       "        vertical-align: middle;\n",
       "    }\n",
       "\n",
       "    .dataframe tbody tr th {\n",
       "        vertical-align: top;\n",
       "    }\n",
       "\n",
       "    .dataframe thead th {\n",
       "        text-align: right;\n",
       "    }\n",
       "</style>\n",
       "<table border=\"1\" class=\"dataframe\">\n",
       "  <thead>\n",
       "    <tr style=\"text-align: right;\">\n",
       "      <th></th>\n",
       "      <th>Serial No.</th>\n",
       "      <th>GRE Score</th>\n",
       "      <th>TOEFL Score</th>\n",
       "      <th>University Rating</th>\n",
       "      <th>SOP</th>\n",
       "      <th>LOR</th>\n",
       "      <th>CGPA</th>\n",
       "      <th>Research</th>\n",
       "    </tr>\n",
       "  </thead>\n",
       "  <tbody>\n",
       "    <tr>\n",
       "      <th>0</th>\n",
       "      <td>117</td>\n",
       "      <td>299</td>\n",
       "      <td>102</td>\n",
       "      <td>3</td>\n",
       "      <td>4.0</td>\n",
       "      <td>3.5</td>\n",
       "      <td>8.62</td>\n",
       "      <td>0</td>\n",
       "    </tr>\n",
       "    <tr>\n",
       "      <th>1</th>\n",
       "      <td>49</td>\n",
       "      <td>321</td>\n",
       "      <td>110</td>\n",
       "      <td>3</td>\n",
       "      <td>3.5</td>\n",
       "      <td>5.0</td>\n",
       "      <td>8.85</td>\n",
       "      <td>1</td>\n",
       "    </tr>\n",
       "    <tr>\n",
       "      <th>2</th>\n",
       "      <td>94</td>\n",
       "      <td>301</td>\n",
       "      <td>97</td>\n",
       "      <td>2</td>\n",
       "      <td>3.0</td>\n",
       "      <td>3.0</td>\n",
       "      <td>7.88</td>\n",
       "      <td>1</td>\n",
       "    </tr>\n",
       "    <tr>\n",
       "      <th>3</th>\n",
       "      <td>108</td>\n",
       "      <td>338</td>\n",
       "      <td>117</td>\n",
       "      <td>4</td>\n",
       "      <td>3.5</td>\n",
       "      <td>4.5</td>\n",
       "      <td>9.46</td>\n",
       "      <td>1</td>\n",
       "    </tr>\n",
       "    <tr>\n",
       "      <th>4</th>\n",
       "      <td>327</td>\n",
       "      <td>299</td>\n",
       "      <td>100</td>\n",
       "      <td>3</td>\n",
       "      <td>2.0</td>\n",
       "      <td>2.0</td>\n",
       "      <td>8.02</td>\n",
       "      <td>0</td>\n",
       "    </tr>\n",
       "  </tbody>\n",
       "</table>\n",
       "</div>"
      ],
      "text/plain": [
       "   Serial No.  GRE Score  TOEFL Score  University Rating  SOP  LOR   CGPA  \\\n",
       "0         117        299          102                  3  4.0   3.5  8.62   \n",
       "1          49        321          110                  3  3.5   5.0  8.85   \n",
       "2          94        301           97                  2  3.0   3.0  7.88   \n",
       "3         108        338          117                  4  3.5   4.5  9.46   \n",
       "4         327        299          100                  3  2.0   2.0  8.02   \n",
       "\n",
       "   Research  \n",
       "0         0  \n",
       "1         1  \n",
       "2         1  \n",
       "3         1  \n",
       "4         0  "
      ]
     },
     "execution_count": 3,
     "metadata": {},
     "output_type": "execute_result"
    }
   ],
   "source": [
    "# Se cargan los datos de prueba\n",
    "\n",
    "df_recent = pd.read_csv('data/university_admission_test.csv', sep=',', encoding = 'utf-8')\n",
    "print(df_recent.shape)\n",
    "df_recent.head(5)"
   ]
  },
  {
   "cell_type": "code",
   "execution_count": 4,
   "id": "427481c0",
   "metadata": {},
   "outputs": [
    {
     "data": {
      "text/plain": [
       "15"
      ]
     },
     "execution_count": 4,
     "metadata": {},
     "output_type": "execute_result"
    }
   ],
   "source": [
    "# Analizar la duplicidad de los datos\n",
    "\n",
    "df_recent.duplicated().sum()"
   ]
  },
  {
   "cell_type": "code",
   "execution_count": 5,
   "id": "da517fce",
   "metadata": {},
   "outputs": [
    {
     "data": {
      "text/plain": [
       "Serial No.           0\n",
       "GRE Score            0\n",
       "TOEFL Score          0\n",
       "University Rating    0\n",
       "SOP                  0\n",
       "LOR                  0\n",
       "CGPA                 0\n",
       "Research             0\n",
       "dtype: int64"
      ]
     },
     "execution_count": 5,
     "metadata": {},
     "output_type": "execute_result"
    }
   ],
   "source": [
    "# Analizar la completitud de los datos\n",
    "\n",
    "df_recent.isna().sum()"
   ]
  },
  {
   "cell_type": "markdown",
   "id": "34a9a071",
   "metadata": {},
   "source": [
    "# Identificación de variables a utlizar"
   ]
  },
  {
   "cell_type": "code",
   "execution_count": 6,
   "id": "6b4e0b14",
   "metadata": {
    "scrolled": true
   },
   "outputs": [
    {
     "ename": "NameError",
     "evalue": "name 'df_tracks_prep' is not defined",
     "output_type": "error",
     "traceback": [
      "\u001b[0;31m---------------------------------------------------------------------------\u001b[0m",
      "\u001b[0;31mNameError\u001b[0m                                 Traceback (most recent call last)",
      "Input \u001b[0;32mIn [6]\u001b[0m, in \u001b[0;36m<cell line: 1>\u001b[0;34m()\u001b[0m\n\u001b[0;32m----> 1\u001b[0m df_num \u001b[38;5;241m=\u001b[39m \u001b[43mdf_tracks_prep\u001b[49m\u001b[38;5;241m.\u001b[39mselect_dtypes([\u001b[38;5;124m'\u001b[39m\u001b[38;5;124mnumber\u001b[39m\u001b[38;5;124m'\u001b[39m])\u001b[38;5;241m.\u001b[39mcopy()\n\u001b[1;32m      2\u001b[0m df_num\u001b[38;5;241m.\u001b[39mdescribe()\n",
      "\u001b[0;31mNameError\u001b[0m: name 'df_tracks_prep' is not defined"
     ]
    }
   ],
   "source": [
    "df_num = df_recent.select_dtypes(['number']).copy()\n",
    "df_num.describe()"
   ]
  },
  {
   "cell_type": "code",
   "execution_count": null,
   "id": "1979d688",
   "metadata": {},
   "outputs": [],
   "source": [
    "# Diagramas de disperción con respecto a la variable objetivo\n",
    "\n",
    "sns.pairplot(df_tracks_prep, height=3, y_vars = 'Admission Points', x_vars = df_tracks_prep.columns[0:5], kind='scatter')\n",
    "sns.pairplot(df_tracks_prep, height=3, y_vars = 'Admission Points', x_vars = df_tracks_prep.columns[5:7], kind='scatter')"
   ]
  },
  {
   "cell_type": "code",
   "execution_count": null,
   "id": "b36bdbb1",
   "metadata": {
    "scrolled": false
   },
   "outputs": [],
   "source": [
    "# Matriz de correlaciones para ver la relación entre variables\n",
    "\n",
    "f = plt.figure(figsize=(19, 15))\n",
    "plt.matshow(df_num.corr(), fignum=f.number, cmap = 'seismic')\n",
    "plt.xticks(range(df_num.select_dtypes(['number']).shape[1]), df_num.select_dtypes(['number']).columns, fontsize=14, rotation=45)\n",
    "plt.yticks(range(df_num.select_dtypes(['number']).shape[1]), df_num.select_dtypes(['number']).columns, fontsize=14)\n",
    "cb = plt.colorbar()\n",
    "_ = cb.ax.tick_params(labelsize=14)"
   ]
  },
  {
   "cell_type": "markdown",
   "id": "a2eedff1",
   "metadata": {},
   "source": [
    "# Preparación de los datos"
   ]
  },
  {
   "cell_type": "code",
   "execution_count": null,
   "id": "bfba5fc8",
   "metadata": {},
   "outputs": [],
   "source": [
    "def square(X):\n",
    "    for feature in X.columns:\n",
    "        if feature=='CGPA' or feature=='GRE Score':\n",
    "            X[feature]=np.sqrt(X[feature])\n",
    "    return X\n",
    "\n",
    "def dropNa(X):\n",
    "     return X.dropna()\n",
    "\n",
    "# def dropDup(X):\n",
    "#     return X.drop_duplicates()  \n",
    "\n",
    "def print1(X):\n",
    "    print(X)\n",
    "    return X"
   ]
  },
  {
   "cell_type": "code",
   "execution_count": null,
   "id": "6eafc163",
   "metadata": {},
   "outputs": [],
   "source": [
    "#Preparación datos de entrenamiento\n",
    "selected_cols = ['University Rating','CGPA','Research','GRE Score','Admission Points']\n",
    "\n",
    "t=[ (\"selector\", 'passthrough',selected_cols)]\n",
    "\n",
    "pre_all = [('na', FunctionTransformer(dropNa)), #Se eliminan las filas con puntaje de admisión nulo\n",
    "           ('initial',ColumnTransformer(transformers = t)), #seleccionar unicamente las columnas que se quieren usar\n",
    "           ('scaler', MinMaxScaler())] #Escalar los datos de -1 a 1"
   ]
  },
  {
   "cell_type": "code",
   "execution_count": null,
   "id": "ccce3ecc",
   "metadata": {},
   "outputs": [],
   "source": [
    "##Se crea el pipeline de preparación\n",
    "pipeline1 = Pipeline(pre_all)"
   ]
  },
  {
   "cell_type": "code",
   "execution_count": null,
   "id": "ea4074cc",
   "metadata": {},
   "outputs": [],
   "source": [
    "# Ejecutamos la preparación y volvemos a poner los datos en un dataframe\n",
    "d = pipeline1.fit_transform(df_tracks)\n",
    "d = pd.DataFrame(data=d,columns=['University Rating','CGPA','Research','GRE Score', 'Admission Points'])\n",
    "d"
   ]
  },
  {
   "cell_type": "code",
   "execution_count": null,
   "id": "9117aa20",
   "metadata": {},
   "outputs": [],
   "source": [
    "# Preparación datos para entrenar\n",
    "\n",
    "selected_cols = ['University Rating','CGPA','Research']\n",
    "\n",
    "t=[ (\"selector\", 'passthrough',selected_cols)]\n",
    "\n",
    "pre = [('square', FunctionTransformer(numpy.square)), #Sacamos la raíz cuadrada de la columna CGPA para que su relación se ajuste más a una recta\n",
    "       ('initial',ColumnTransformer(transformers = t)), #seleccionar unicamente las columnas que se quieren usar\n",
    "       ('scaler', MinMaxScaler()), #Escalar los datos de -1 a 1\n",
    "       ('imputer', SimpleImputer(missing_values=np.nan, strategy='median'))] #Reemplazamos los valores nulos por la mediana de la columna.\n"
   ]
  },
  {
   "cell_type": "markdown",
   "id": "d64287ba",
   "metadata": {},
   "source": [
    "# Modelo"
   ]
  },
  {
   "cell_type": "code",
   "execution_count": null,
   "id": "8c98779b",
   "metadata": {},
   "outputs": [],
   "source": [
    "# Se genera el modelo\n",
    "\n",
    "model = [('model', LinearRegression())]"
   ]
  },
  {
   "cell_type": "code",
   "execution_count": null,
   "id": "02189610",
   "metadata": {},
   "outputs": [],
   "source": [
    "#Se crea el pipeline de entrenamiento\n",
    "pipeline = Pipeline(pre+model)"
   ]
  },
  {
   "cell_type": "code",
   "execution_count": null,
   "id": "7ba4dd49",
   "metadata": {},
   "outputs": [],
   "source": [
    "# Se extrae las variables explicativas y objetivo para entrenar\n",
    "\n",
    "X = d[selected_cols]\n",
    "y = d['Admission Points']\n",
    "\n",
    "# Se entrena el modelo\n",
    "pipeline = pipeline.fit(X,y)"
   ]
  },
  {
   "cell_type": "code",
   "execution_count": null,
   "id": "df31240a",
   "metadata": {},
   "outputs": [],
   "source": [
    "# Se visualiza la regresión lineal en cada dimensión\n",
    "\n",
    "f, axs = plt.subplots(1, len(selected_cols), sharey=True, figsize = (12,4))\n",
    "\n",
    "for i in range(len(selected_cols)):\n",
    "\n",
    "    pos_col = i\n",
    "    col = selected_cols[pos_col]\n",
    "\n",
    "    # Variable x\n",
    "    x = X[col]\n",
    "    # Pendiente\n",
    "    m = pipeline['model'].coef_[pos_col]\n",
    "    # Interceto\n",
    "    b = pipeline['model'].intercept_\n",
    "\n",
    "    axs[i].plot(x, y, 'o', alpha = 0.1)\n",
    "    axs[i].plot(x, x*m + b)\n",
    "    axs[i].set_title(col)"
   ]
  },
  {
   "cell_type": "code",
   "execution_count": null,
   "id": "ce609ec8",
   "metadata": {},
   "outputs": [],
   "source": [
    "# Usamos la lbreria joblib\n",
    "filename = 'modelo.joblib'\n",
    "# Se guarda\n",
    "dump(pipeline, filename) "
   ]
  },
  {
   "cell_type": "code",
   "execution_count": null,
   "id": "a3cff0bb",
   "metadata": {},
   "outputs": [],
   "source": [
    "# Se lee\n",
    "p2 = load(filename)\n",
    "p2"
   ]
  },
  {
   "cell_type": "code",
   "execution_count": null,
   "id": "33f92705",
   "metadata": {},
   "outputs": [],
   "source": [
    "# Clasificamos los datos recientes\n",
    "df_recent1=df_recent\n",
    "df_recent1['Admission Points'] = p2.predict(df_recent1)"
   ]
  },
  {
   "cell_type": "code",
   "execution_count": null,
   "id": "bf4ee3da",
   "metadata": {},
   "outputs": [],
   "source": [
    "#Visualizamos la predicción de puntajes\n",
    "\n",
    "#sns.histplot(df_recent['Admission Points'])\n",
    "plt.hist(df_recent['Admission Points'])"
   ]
  },
  {
   "cell_type": "code",
   "execution_count": null,
   "id": "ad0a6a27",
   "metadata": {},
   "outputs": [],
   "source": [
    "#Vemos la importancia de los features con los que entrenamos\n",
    "pd.DataFrame({'columns':selected_cols, 'coef':pipeline['model'].coef_})"
   ]
  },
  {
   "cell_type": "code",
   "execution_count": null,
   "id": "1d017e74",
   "metadata": {},
   "outputs": [],
   "source": [
    "# Extraemos las variables explicativas y objetivo para entrenar\n",
    "\n",
    "X = d.drop('Admission Points', axis = 1)\n",
    "y = d['Admission Points']\n",
    "\n",
    "pipeline = pipeline.fit(X,y)"
   ]
  },
  {
   "cell_type": "code",
   "execution_count": null,
   "id": "b750fdcd",
   "metadata": {},
   "outputs": [],
   "source": [
    "# Imprimir los coeficientes nuevamente\n",
    "\n",
    "pd.DataFrame({'columns':selected_cols, 'coef':pipeline['model'].coef_})"
   ]
  },
  {
   "cell_type": "markdown",
   "id": "f4aa6dad",
   "metadata": {},
   "source": [
    "# Evaluación cuantitativa"
   ]
  },
  {
   "cell_type": "code",
   "execution_count": null,
   "id": "87914df4",
   "metadata": {},
   "outputs": [],
   "source": [
    "# R²\n",
    "p2.score(X,y)"
   ]
  },
  {
   "cell_type": "code",
   "execution_count": null,
   "id": "26dea63c",
   "metadata": {},
   "outputs": [],
   "source": [
    "#RMSE\n",
    "\n",
    "y_true = y\n",
    "y_predicted = p2.predict(X)\n",
    "\n",
    "# Note que hay que sacarle la raiz al valor\n",
    "np.sqrt(mse(y_true, y_predicted))"
   ]
  },
  {
   "cell_type": "markdown",
   "id": "0dedffc1",
   "metadata": {},
   "source": [
    "**¿Su equipo recomienda instalar el modelo de estimación en producción o es mejor continuar usando expertos para la tarea?**\n",
    "\n",
    "El modelo de estimación de nuestro equipo muestra unas metricas buenas, sin embargo aun creemos que no son lo suficientemente adecuados para ser puestos en producción. Una vez las metricas alcancen R^2 > 0.8 y RSME < 0.06, consideramos que el modelo es suficiente para el uso en producción. Por lo tanto, por el momento se recomienta continuar usando expertos para la tarea y seguir ajustando el modelo"
   ]
  },
  {
   "cell_type": "markdown",
   "id": "a3ade91f",
   "metadata": {},
   "source": [
    "**En caso de no recomendar el uso de un modelo de regresión ¿Qué otras posibilidades tiene la empresa? ¿Hacia dónde debe seguir con esta tarea?**\n",
    "\n",
    "En este caso se podría recomendar en vez de intentar predecir el puntaje de admisión, acordar un puntaje suficientemente bueno para decidir si un candidato es elegible y convertir esto a una tarea de aprendizaje de clasificación. Este tipo de aprendeizaje consideramos que resuelve las necesidades presentadas."
   ]
  },
  {
   "cell_type": "markdown",
   "id": "d4f5901d",
   "metadata": {},
   "source": [
    "# Evaluación cualitativa"
   ]
  },
  {
   "cell_type": "markdown",
   "id": "03c554ff",
   "metadata": {},
   "source": [
    "## Validación de supuestos\n",
    "**¿Qué obtuvieron con el ejercicio de regresión?**\n",
    "\n",
    "Con el modelo de regresión obtuvimos un sistema cuantitativo para estimar el puntaje de admision de un candidato."
   ]
  },
  {
   "cell_type": "markdown",
   "id": "00819a41",
   "metadata": {},
   "source": [
    "## Interpretación de los coeficientes\n",
    "**¿Cuáles son las variables más influyentes y que tan confiables son los resultados?**\n",
    "\n",
    "Nuestros resultados indican que las variables mas influyentes, en orden de influencia son las siguientes:\n",
    "    - University Rating\n",
    "    - sqrt(CGPA)\n",
    "    - Research\n",
    "    \n",
    "Los resultados son bastante confiables segun las metricas obtenidas del modelo. Sin embargo, como ya fue expresado previamente, no consideramos que sean aun lo suficientemente confiables para ser usadas en un ambiente de producción."
   ]
  },
  {
   "cell_type": "markdown",
   "id": "dfee4e4c",
   "metadata": {},
   "source": [
    "# Preparación datos de prueba"
   ]
  },
  {
   "cell_type": "code",
   "execution_count": null,
   "id": "c54bbc48",
   "metadata": {},
   "outputs": [],
   "source": [
    "X1 = df_recent[['Research']]\n",
    "X1.to_csv(\"data/pruebas/prueba1.csv\")\n",
    "X1.to_json(\"data/pruebas/prueba1.json\")\n",
    "X1"
   ]
  },
  {
   "cell_type": "code",
   "execution_count": null,
   "id": "43e13484",
   "metadata": {},
   "outputs": [],
   "source": [
    "\"Error\"\n",
    "try:\n",
    "    p2.predict(X1)\n",
    "except Exception as err:\n",
    "    print(err)"
   ]
  },
  {
   "cell_type": "code",
   "execution_count": null,
   "id": "a9e69929",
   "metadata": {},
   "outputs": [],
   "source": [
    "X2 = pd.DataFrame(np.ones((len(X1),3)),columns=selected_cols)\n",
    "X2.to_csv(\"data/pruebas/prueba2.csv\")\n",
    "X2.to_json(\"data/pruebas/prueba2.json\")\n",
    "X2"
   ]
  },
  {
   "cell_type": "code",
   "execution_count": null,
   "id": "c87a8fc7",
   "metadata": {},
   "outputs": [],
   "source": [
    "\"Resultados sin sentido\"\n",
    "try:\n",
    "    print(p2.predict(X2))\n",
    "except Exception as err:\n",
    "    print(err)"
   ]
  },
  {
   "cell_type": "code",
   "execution_count": null,
   "id": "a11086f0",
   "metadata": {},
   "outputs": [],
   "source": [
    "X3 = np.ones((len(X1),3))\n",
    "X3[:]=np.nan\n",
    "X3 = pd.DataFrame(X3,columns=selected_cols)\n",
    "X3.to_csv(\"data/pruebas/prueba3.csv\")\n",
    "X3.to_json(\"data/pruebas/prueba3.json\")\n",
    "X3"
   ]
  },
  {
   "cell_type": "code",
   "execution_count": null,
   "id": "6354a274",
   "metadata": {},
   "outputs": [],
   "source": [
    "\"Resultados sin sentido\"\n",
    "try:\n",
    "    res = p2.predict(X3)\n",
    "    print(res)\n",
    "except Exception as err:\n",
    "    print(err)"
   ]
  },
  {
   "cell_type": "code",
   "execution_count": null,
   "id": "3e08b172",
   "metadata": {},
   "outputs": [],
   "source": [
    "X4 = df_recent[selected_cols]\n",
    "X4[selected_cols[0]]-=1\n",
    "X4[selected_cols[1]]+=np.mean(X4[selected_cols[1]])\n",
    "X4[selected_cols[2]]=-(X4[selected_cols[2]]-1)\n",
    "X4.to_csv(\"data/pruebas/prueba4.csv\")\n",
    "X4.to_json(\"data/pruebas/prueba4.json\")\n",
    "print(min(X4[selected_cols[0]]))\n",
    "X4"
   ]
  },
  {
   "cell_type": "code",
   "execution_count": null,
   "id": "5dec6479",
   "metadata": {
    "scrolled": false
   },
   "outputs": [],
   "source": [
    "\"Resultados con sentido\"\n",
    "try:\n",
    "    res = p2.predict(X4)\n",
    "    print(res)\n",
    "except Exception as err:\n",
    "    print(err)"
   ]
  },
  {
   "cell_type": "code",
   "execution_count": null,
   "id": "babc4b14",
   "metadata": {},
   "outputs": [],
   "source": [
    "df_recent.to_csv(\"data/pruebas/prueba5.csv\")\n",
    "df_recent.to_json(\"data/pruebas/prueba5.json\")"
   ]
  },
  {
   "cell_type": "code",
   "execution_count": null,
   "id": "3a9e704f",
   "metadata": {},
   "outputs": [],
   "source": [
    "\"Resultados con sentido\"\n",
    "try:\n",
    "    res = p2.predict(df_recent)\n",
    "    print(res)\n",
    "except Exception as err:\n",
    "    print(err)"
   ]
  }
 ],
 "metadata": {
  "kernelspec": {
   "display_name": "Python 3 (ipykernel)",
   "language": "python",
   "name": "python3"
  },
  "language_info": {
   "codemirror_mode": {
    "name": "ipython",
    "version": 3
   },
   "file_extension": ".py",
   "mimetype": "text/x-python",
   "name": "python",
   "nbconvert_exporter": "python",
   "pygments_lexer": "ipython3",
   "version": "3.9.12"
  }
 },
 "nbformat": 4,
 "nbformat_minor": 5
}
