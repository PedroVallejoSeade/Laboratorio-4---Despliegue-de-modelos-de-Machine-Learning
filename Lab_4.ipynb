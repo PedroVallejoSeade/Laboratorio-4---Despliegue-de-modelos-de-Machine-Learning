{
 "cells": [
  {
   "cell_type": "code",
   "execution_count": 1,
   "id": "8caf10d1",
   "metadata": {},
   "outputs": [],
   "source": [
    "# Cargar librerias\n",
    "\n",
    "import pandas as pd\n",
    "import numpy as np\n",
    "import matplotlib.pyplot as plt\n",
    "import seaborn as sns\n",
    "\n",
    "# Composicion de pipelines\n",
    "from sklearn.compose import ColumnTransformer\n",
    "from sklearn.pipeline import Pipeline\n",
    "from sklearn.impute import SimpleImputer\n",
    "from sklearn.preprocessing import PolynomialFeatures\n",
    "from sklearn.preprocessing import MinMaxScaler, FunctionTransformer\n",
    "\n",
    "# Regresion lineal\n",
    "from sklearn.linear_model import LinearRegression\n",
    "\n",
    "# Importar/ Exportar modelos\n",
    "from joblib import dump, load\n",
    "\n",
    "# Metricas\n",
    "from sklearn.metrics import mean_squared_error as mse\n",
    "\n",
    "# q-q plots\n",
    "import scipy.stats as stats"
   ]
  },
  {
   "cell_type": "code",
   "execution_count": 2,
   "id": "b65e7d4b",
   "metadata": {},
   "outputs": [
    {
     "name": "stdout",
     "output_type": "stream",
     "text": [
      "(1569, 9)\n"
     ]
    },
    {
     "data": {
      "text/html": [
       "<div>\n",
       "<style scoped>\n",
       "    .dataframe tbody tr th:only-of-type {\n",
       "        vertical-align: middle;\n",
       "    }\n",
       "\n",
       "    .dataframe tbody tr th {\n",
       "        vertical-align: top;\n",
       "    }\n",
       "\n",
       "    .dataframe thead th {\n",
       "        text-align: right;\n",
       "    }\n",
       "</style>\n",
       "<table border=\"1\" class=\"dataframe\">\n",
       "  <thead>\n",
       "    <tr style=\"text-align: right;\">\n",
       "      <th></th>\n",
       "      <th>Serial No.</th>\n",
       "      <th>GRE Score</th>\n",
       "      <th>TOEFL Score</th>\n",
       "      <th>University Rating</th>\n",
       "      <th>SOP</th>\n",
       "      <th>LOR</th>\n",
       "      <th>CGPA</th>\n",
       "      <th>Research</th>\n",
       "      <th>Admission Points</th>\n",
       "    </tr>\n",
       "  </thead>\n",
       "  <tbody>\n",
       "    <tr>\n",
       "      <th>0</th>\n",
       "      <td>479</td>\n",
       "      <td>327</td>\n",
       "      <td>113</td>\n",
       "      <td>4</td>\n",
       "      <td>4.00</td>\n",
       "      <td>2.77</td>\n",
       "      <td>8.88</td>\n",
       "      <td>1</td>\n",
       "      <td>84.47</td>\n",
       "    </tr>\n",
       "    <tr>\n",
       "      <th>1</th>\n",
       "      <td>446</td>\n",
       "      <td>301</td>\n",
       "      <td>92</td>\n",
       "      <td>1</td>\n",
       "      <td>1.85</td>\n",
       "      <td>1.50</td>\n",
       "      <td>7.71</td>\n",
       "      <td>0</td>\n",
       "      <td>45.08</td>\n",
       "    </tr>\n",
       "    <tr>\n",
       "      <th>2</th>\n",
       "      <td>336</td>\n",
       "      <td>297</td>\n",
       "      <td>100</td>\n",
       "      <td>1</td>\n",
       "      <td>2.41</td>\n",
       "      <td>1.59</td>\n",
       "      <td>7.89</td>\n",
       "      <td>0</td>\n",
       "      <td>47.42</td>\n",
       "    </tr>\n",
       "    <tr>\n",
       "      <th>3</th>\n",
       "      <td>20</td>\n",
       "      <td>303</td>\n",
       "      <td>98</td>\n",
       "      <td>3</td>\n",
       "      <td>3.50</td>\n",
       "      <td>3.00</td>\n",
       "      <td>8.50</td>\n",
       "      <td>0</td>\n",
       "      <td>62.00</td>\n",
       "    </tr>\n",
       "    <tr>\n",
       "      <th>4</th>\n",
       "      <td>432</td>\n",
       "      <td>320</td>\n",
       "      <td>94</td>\n",
       "      <td>2</td>\n",
       "      <td>1.38</td>\n",
       "      <td>3.50</td>\n",
       "      <td>8.78</td>\n",
       "      <td>1</td>\n",
       "      <td>73.00</td>\n",
       "    </tr>\n",
       "  </tbody>\n",
       "</table>\n",
       "</div>"
      ],
      "text/plain": [
       "   Serial No.  GRE Score  TOEFL Score  University Rating   SOP  LOR   CGPA  \\\n",
       "0         479        327          113                  4  4.00  2.77  8.88   \n",
       "1         446        301           92                  1  1.85  1.50  7.71   \n",
       "2         336        297          100                  1  2.41  1.59  7.89   \n",
       "3          20        303           98                  3  3.50  3.00  8.50   \n",
       "4         432        320           94                  2  1.38  3.50  8.78   \n",
       "\n",
       "   Research  Admission Points  \n",
       "0         1             84.47  \n",
       "1         0             45.08  \n",
       "2         0             47.42  \n",
       "3         0             62.00  \n",
       "4         1             73.00  "
      ]
     },
     "execution_count": 2,
     "metadata": {},
     "output_type": "execute_result"
    }
   ],
   "source": [
    "# Se cargan los datos de entrenamiento\n",
    "\n",
    "df_original = pd.read_csv('data/university_admission_train.csv', sep=',', encoding = 'utf-8', index_col=0)\n",
    "df_tracks = df_original.copy()\n",
    "print(df_tracks.shape)\n",
    "df_tracks.head(5)"
   ]
  },
  {
   "cell_type": "code",
   "execution_count": 3,
   "id": "37ed73e2",
   "metadata": {},
   "outputs": [
    {
     "name": "stdout",
     "output_type": "stream",
     "text": [
      "(175, 8)\n"
     ]
    },
    {
     "data": {
      "text/html": [
       "<div>\n",
       "<style scoped>\n",
       "    .dataframe tbody tr th:only-of-type {\n",
       "        vertical-align: middle;\n",
       "    }\n",
       "\n",
       "    .dataframe tbody tr th {\n",
       "        vertical-align: top;\n",
       "    }\n",
       "\n",
       "    .dataframe thead th {\n",
       "        text-align: right;\n",
       "    }\n",
       "</style>\n",
       "<table border=\"1\" class=\"dataframe\">\n",
       "  <thead>\n",
       "    <tr style=\"text-align: right;\">\n",
       "      <th></th>\n",
       "      <th>Serial No.</th>\n",
       "      <th>GRE Score</th>\n",
       "      <th>TOEFL Score</th>\n",
       "      <th>University Rating</th>\n",
       "      <th>SOP</th>\n",
       "      <th>LOR</th>\n",
       "      <th>CGPA</th>\n",
       "      <th>Research</th>\n",
       "    </tr>\n",
       "  </thead>\n",
       "  <tbody>\n",
       "    <tr>\n",
       "      <th>0</th>\n",
       "      <td>117</td>\n",
       "      <td>299</td>\n",
       "      <td>102</td>\n",
       "      <td>3</td>\n",
       "      <td>4.0</td>\n",
       "      <td>3.5</td>\n",
       "      <td>8.62</td>\n",
       "      <td>0</td>\n",
       "    </tr>\n",
       "    <tr>\n",
       "      <th>1</th>\n",
       "      <td>49</td>\n",
       "      <td>321</td>\n",
       "      <td>110</td>\n",
       "      <td>3</td>\n",
       "      <td>3.5</td>\n",
       "      <td>5.0</td>\n",
       "      <td>8.85</td>\n",
       "      <td>1</td>\n",
       "    </tr>\n",
       "    <tr>\n",
       "      <th>2</th>\n",
       "      <td>94</td>\n",
       "      <td>301</td>\n",
       "      <td>97</td>\n",
       "      <td>2</td>\n",
       "      <td>3.0</td>\n",
       "      <td>3.0</td>\n",
       "      <td>7.88</td>\n",
       "      <td>1</td>\n",
       "    </tr>\n",
       "    <tr>\n",
       "      <th>3</th>\n",
       "      <td>108</td>\n",
       "      <td>338</td>\n",
       "      <td>117</td>\n",
       "      <td>4</td>\n",
       "      <td>3.5</td>\n",
       "      <td>4.5</td>\n",
       "      <td>9.46</td>\n",
       "      <td>1</td>\n",
       "    </tr>\n",
       "    <tr>\n",
       "      <th>4</th>\n",
       "      <td>327</td>\n",
       "      <td>299</td>\n",
       "      <td>100</td>\n",
       "      <td>3</td>\n",
       "      <td>2.0</td>\n",
       "      <td>2.0</td>\n",
       "      <td>8.02</td>\n",
       "      <td>0</td>\n",
       "    </tr>\n",
       "  </tbody>\n",
       "</table>\n",
       "</div>"
      ],
      "text/plain": [
       "   Serial No.  GRE Score  TOEFL Score  University Rating  SOP  LOR   CGPA  \\\n",
       "0         117        299          102                  3  4.0   3.5  8.62   \n",
       "1          49        321          110                  3  3.5   5.0  8.85   \n",
       "2          94        301           97                  2  3.0   3.0  7.88   \n",
       "3         108        338          117                  4  3.5   4.5  9.46   \n",
       "4         327        299          100                  3  2.0   2.0  8.02   \n",
       "\n",
       "   Research  \n",
       "0         0  \n",
       "1         1  \n",
       "2         1  \n",
       "3         1  \n",
       "4         0  "
      ]
     },
     "execution_count": 3,
     "metadata": {},
     "output_type": "execute_result"
    }
   ],
   "source": [
    "# Se cargan los datos de prueba\n",
    "\n",
    "df_recent = pd.read_csv('data/university_admission_test.csv', sep=',', encoding = 'utf-8')\n",
    "print(df_recent.shape)\n",
    "df_recent.head(5)"
   ]
  },
  {
   "cell_type": "code",
   "execution_count": 4,
   "id": "427481c0",
   "metadata": {},
   "outputs": [
    {
     "data": {
      "text/plain": [
       "15"
      ]
     },
     "execution_count": 4,
     "metadata": {},
     "output_type": "execute_result"
    }
   ],
   "source": [
    "# Analizar la duplicidad de los datos\n",
    "\n",
    "df_recent.duplicated().sum()"
   ]
  },
  {
   "cell_type": "code",
   "execution_count": 5,
   "id": "da517fce",
   "metadata": {},
   "outputs": [
    {
     "data": {
      "text/plain": [
       "Serial No.           0\n",
       "GRE Score            0\n",
       "TOEFL Score          0\n",
       "University Rating    0\n",
       "SOP                  0\n",
       "LOR                  0\n",
       "CGPA                 0\n",
       "Research             0\n",
       "dtype: int64"
      ]
     },
     "execution_count": 5,
     "metadata": {},
     "output_type": "execute_result"
    }
   ],
   "source": [
    "# Analizar la completitud de los datos\n",
    "\n",
    "df_recent.isna().sum()"
   ]
  },
  {
   "cell_type": "markdown",
   "id": "34a9a071",
   "metadata": {},
   "source": [
    "# Identificación de variables a utlizar"
   ]
  },
  {
   "cell_type": "code",
   "execution_count": 6,
   "id": "6b4e0b14",
   "metadata": {
    "scrolled": true
   },
   "outputs": [
    {
     "data": {
      "text/html": [
       "<div>\n",
       "<style scoped>\n",
       "    .dataframe tbody tr th:only-of-type {\n",
       "        vertical-align: middle;\n",
       "    }\n",
       "\n",
       "    .dataframe tbody tr th {\n",
       "        vertical-align: top;\n",
       "    }\n",
       "\n",
       "    .dataframe thead th {\n",
       "        text-align: right;\n",
       "    }\n",
       "</style>\n",
       "<table border=\"1\" class=\"dataframe\">\n",
       "  <thead>\n",
       "    <tr style=\"text-align: right;\">\n",
       "      <th></th>\n",
       "      <th>Serial No.</th>\n",
       "      <th>GRE Score</th>\n",
       "      <th>TOEFL Score</th>\n",
       "      <th>University Rating</th>\n",
       "      <th>SOP</th>\n",
       "      <th>LOR</th>\n",
       "      <th>CGPA</th>\n",
       "      <th>Research</th>\n",
       "      <th>Admission Points</th>\n",
       "    </tr>\n",
       "  </thead>\n",
       "  <tbody>\n",
       "    <tr>\n",
       "      <th>count</th>\n",
       "      <td>1569.000000</td>\n",
       "      <td>1569.000000</td>\n",
       "      <td>1569.000000</td>\n",
       "      <td>1569.000000</td>\n",
       "      <td>1569.000000</td>\n",
       "      <td>1569.000000</td>\n",
       "      <td>1569.000000</td>\n",
       "      <td>1569.000000</td>\n",
       "      <td>1504.000000</td>\n",
       "    </tr>\n",
       "    <tr>\n",
       "      <th>mean</th>\n",
       "      <td>239.022945</td>\n",
       "      <td>307.669216</td>\n",
       "      <td>101.632250</td>\n",
       "      <td>2.873805</td>\n",
       "      <td>2.980848</td>\n",
       "      <td>3.013907</td>\n",
       "      <td>8.342231</td>\n",
       "      <td>0.469726</td>\n",
       "      <td>66.744328</td>\n",
       "    </tr>\n",
       "    <tr>\n",
       "      <th>std</th>\n",
       "      <td>149.802641</td>\n",
       "      <td>17.857559</td>\n",
       "      <td>12.386238</td>\n",
       "      <td>1.245147</td>\n",
       "      <td>1.234802</td>\n",
       "      <td>1.214377</td>\n",
       "      <td>0.812729</td>\n",
       "      <td>0.499242</td>\n",
       "      <td>19.253029</td>\n",
       "    </tr>\n",
       "    <tr>\n",
       "      <th>min</th>\n",
       "      <td>1.000000</td>\n",
       "      <td>257.000000</td>\n",
       "      <td>69.000000</td>\n",
       "      <td>1.000000</td>\n",
       "      <td>0.020000</td>\n",
       "      <td>0.000000</td>\n",
       "      <td>6.100000</td>\n",
       "      <td>0.000000</td>\n",
       "      <td>34.000000</td>\n",
       "    </tr>\n",
       "    <tr>\n",
       "      <th>25%</th>\n",
       "      <td>94.000000</td>\n",
       "      <td>298.000000</td>\n",
       "      <td>96.000000</td>\n",
       "      <td>2.000000</td>\n",
       "      <td>2.000000</td>\n",
       "      <td>2.050000</td>\n",
       "      <td>7.750000</td>\n",
       "      <td>0.000000</td>\n",
       "      <td>48.000000</td>\n",
       "    </tr>\n",
       "    <tr>\n",
       "      <th>50%</th>\n",
       "      <td>236.000000</td>\n",
       "      <td>309.000000</td>\n",
       "      <td>104.000000</td>\n",
       "      <td>3.000000</td>\n",
       "      <td>3.000000</td>\n",
       "      <td>3.000000</td>\n",
       "      <td>8.330000</td>\n",
       "      <td>0.000000</td>\n",
       "      <td>67.000000</td>\n",
       "    </tr>\n",
       "    <tr>\n",
       "      <th>75%</th>\n",
       "      <td>377.000000</td>\n",
       "      <td>322.000000</td>\n",
       "      <td>111.000000</td>\n",
       "      <td>4.000000</td>\n",
       "      <td>4.000000</td>\n",
       "      <td>4.000000</td>\n",
       "      <td>9.040000</td>\n",
       "      <td>1.000000</td>\n",
       "      <td>84.000000</td>\n",
       "    </tr>\n",
       "    <tr>\n",
       "      <th>max</th>\n",
       "      <td>500.000000</td>\n",
       "      <td>340.000000</td>\n",
       "      <td>120.000000</td>\n",
       "      <td>5.000000</td>\n",
       "      <td>5.000000</td>\n",
       "      <td>5.000000</td>\n",
       "      <td>9.920000</td>\n",
       "      <td>1.000000</td>\n",
       "      <td>145.500000</td>\n",
       "    </tr>\n",
       "  </tbody>\n",
       "</table>\n",
       "</div>"
      ],
      "text/plain": [
       "        Serial No.    GRE Score  TOEFL Score  University Rating          SOP  \\\n",
       "count  1569.000000  1569.000000  1569.000000        1569.000000  1569.000000   \n",
       "mean    239.022945   307.669216   101.632250           2.873805     2.980848   \n",
       "std     149.802641    17.857559    12.386238           1.245147     1.234802   \n",
       "min       1.000000   257.000000    69.000000           1.000000     0.020000   \n",
       "25%      94.000000   298.000000    96.000000           2.000000     2.000000   \n",
       "50%     236.000000   309.000000   104.000000           3.000000     3.000000   \n",
       "75%     377.000000   322.000000   111.000000           4.000000     4.000000   \n",
       "max     500.000000   340.000000   120.000000           5.000000     5.000000   \n",
       "\n",
       "              LOR          CGPA     Research  Admission Points  \n",
       "count  1569.000000  1569.000000  1569.000000       1504.000000  \n",
       "mean      3.013907     8.342231     0.469726         66.744328  \n",
       "std       1.214377     0.812729     0.499242         19.253029  \n",
       "min       0.000000     6.100000     0.000000         34.000000  \n",
       "25%       2.050000     7.750000     0.000000         48.000000  \n",
       "50%       3.000000     8.330000     0.000000         67.000000  \n",
       "75%       4.000000     9.040000     1.000000         84.000000  \n",
       "max       5.000000     9.920000     1.000000        145.500000  "
      ]
     },
     "execution_count": 6,
     "metadata": {},
     "output_type": "execute_result"
    }
   ],
   "source": [
    "df_tracks_prep = df_original\n",
    "\n",
    "df_num = df_tracks_prep.select_dtypes(['number']).copy()\n",
    "df_num.describe()"
   ]
  },
  {
   "cell_type": "code",
   "execution_count": 7,
   "id": "1979d688",
   "metadata": {},
   "outputs": [
    {
     "data": {
      "text/plain": [
       "<seaborn.axisgrid.PairGrid at 0x7f8fa904df40>"
      ]
     },
     "execution_count": 7,
     "metadata": {},
     "output_type": "execute_result"
    },
    {
     "data": {
      "image/png": "[encoded data removed]",
      "text/plain": [
       "<Figure size 1080x216 with 5 Axes>"
      ]
     },
     "metadata": {
      "needs_background": "light"
     },
     "output_type": "display_data"
    },
    {
     "data": {
      "image/png": "[encoded data removed]",
      "text/plain": [
       "<Figure size 432x216 with 2 Axes>"
      ]
     },
     "metadata": {
      "needs_background": "light"
     },
     "output_type": "display_data"
    }
   ],
   "source": [
    "# Diagramas de disperción con respecto a la variable objetivo\n",
    "\n",
    "sns.pairplot(df_tracks_prep, height=3, y_vars = 'Admission Points', x_vars = df_tracks_prep.columns[0:5], kind='scatter')\n",
    "sns.pairplot(df_tracks_prep, height=3, y_vars = 'Admission Points', x_vars = df_tracks_prep.columns[5:7], kind='scatter')"
   ]
  },
  {
   "cell_type": "code",
   "execution_count": 8,
   "id": "b36bdbb1",
   "metadata": {
    "scrolled": false
   },
   "outputs": [
    {
     "data": {
      "image/png": "[encoded data removed]",
      "text/plain": [
       "<Figure size 1368x1080 with 2 Axes>"
      ]
     },
     "metadata": {
      "needs_background": "light"
     },
     "output_type": "display_data"
    }
   ],
   "source": [
    "# Matriz de correlaciones para ver la relación entre variables\n",
    "\n",
    "f = plt.figure(figsize=(19, 15))\n",
    "plt.matshow(df_num.corr(), fignum=f.number, cmap = 'seismic')\n",
    "plt.xticks(range(df_num.select_dtypes(['number']).shape[1]), df_num.select_dtypes(['number']).columns, fontsize=14, rotation=45)\n",
    "plt.yticks(range(df_num.select_dtypes(['number']).shape[1]), df_num.select_dtypes(['number']).columns, fontsize=14)\n",
    "cb = plt.colorbar()\n",
    "_ = cb.ax.tick_params(labelsize=14)"
   ]
  },
  {
   "cell_type": "markdown",
   "id": "a2eedff1",
   "metadata": {},
   "source": [
    "# Preparación de los datos"
   ]
  },
  {
   "cell_type": "code",
   "execution_count": 9,
   "id": "bfba5fc8",
   "metadata": {},
   "outputs": [],
   "source": [
    "# def square(X):\n",
    "#     for feature in X.columns:\n",
    "#         if feature=='CGPA' or feature=='GRE Score':\n",
    "#             X[feature]=np.sqrt(X[feature])\n",
    "#     return X\n",
    "\n",
    "def dropNa(X):\n",
    "     return X.dropna()\n",
    "\n",
    "# def dropDup(X):\n",
    "#     return X.drop_duplicates()  \n",
    "\n",
    "def print1(X):\n",
    "    print(X)\n",
    "    return X"
   ]
  },
  {
   "cell_type": "code",
   "execution_count": 10,
   "id": "6eafc163",
   "metadata": {},
   "outputs": [],
   "source": [
    "#Preparación datos de entrenamiento\n",
    "selected_cols = ['University Rating','CGPA','Research','GRE Score','Admission Points']\n",
    "\n",
    "t=[ (\"selector\", 'passthrough',selected_cols)]\n",
    "\n",
    "pre_all = [('na', FunctionTransformer(dropNa)), #Se eliminan las filas con puntaje de admisión nulo\n",
    "           ('initial',ColumnTransformer(transformers = t)), #seleccionar unicamente las columnas que se quieren usar\n",
    "           ('scaler', MinMaxScaler())] #Escalar los datos de -1 a 1"
   ]
  },
  {
   "cell_type": "code",
   "execution_count": 11,
   "id": "ccce3ecc",
   "metadata": {},
   "outputs": [],
   "source": [
    "##Se crea el pipeline de preparación\n",
    "pipeline1 = Pipeline(pre_all)"
   ]
  },
  {
   "cell_type": "code",
   "execution_count": 12,
   "id": "ea4074cc",
   "metadata": {},
   "outputs": [
    {
     "data": {
      "text/html": [
       "<div>\n",
       "<style scoped>\n",
       "    .dataframe tbody tr th:only-of-type {\n",
       "        vertical-align: middle;\n",
       "    }\n",
       "\n",
       "    .dataframe tbody tr th {\n",
       "        vertical-align: top;\n",
       "    }\n",
       "\n",
       "    .dataframe thead th {\n",
       "        text-align: right;\n",
       "    }\n",
       "</style>\n",
       "<table border=\"1\" class=\"dataframe\">\n",
       "  <thead>\n",
       "    <tr style=\"text-align: right;\">\n",
       "      <th></th>\n",
       "      <th>University Rating</th>\n",
       "      <th>CGPA</th>\n",
       "      <th>Research</th>\n",
       "      <th>GRE Score</th>\n",
       "      <th>Admission Points</th>\n",
       "    </tr>\n",
       "  </thead>\n",
       "  <tbody>\n",
       "    <tr>\n",
       "      <th>0</th>\n",
       "      <td>0.75</td>\n",
       "      <td>0.727749</td>\n",
       "      <td>1.0</td>\n",
       "      <td>0.843373</td>\n",
       "      <td>0.452646</td>\n",
       "    </tr>\n",
       "    <tr>\n",
       "      <th>1</th>\n",
       "      <td>0.00</td>\n",
       "      <td>0.421466</td>\n",
       "      <td>0.0</td>\n",
       "      <td>0.530120</td>\n",
       "      <td>0.099372</td>\n",
       "    </tr>\n",
       "    <tr>\n",
       "      <th>2</th>\n",
       "      <td>0.00</td>\n",
       "      <td>0.468586</td>\n",
       "      <td>0.0</td>\n",
       "      <td>0.481928</td>\n",
       "      <td>0.120359</td>\n",
       "    </tr>\n",
       "    <tr>\n",
       "      <th>3</th>\n",
       "      <td>0.50</td>\n",
       "      <td>0.628272</td>\n",
       "      <td>0.0</td>\n",
       "      <td>0.554217</td>\n",
       "      <td>0.251121</td>\n",
       "    </tr>\n",
       "    <tr>\n",
       "      <th>4</th>\n",
       "      <td>0.25</td>\n",
       "      <td>0.701571</td>\n",
       "      <td>1.0</td>\n",
       "      <td>0.759036</td>\n",
       "      <td>0.349776</td>\n",
       "    </tr>\n",
       "    <tr>\n",
       "      <th>...</th>\n",
       "      <td>...</td>\n",
       "      <td>...</td>\n",
       "      <td>...</td>\n",
       "      <td>...</td>\n",
       "      <td>...</td>\n",
       "    </tr>\n",
       "    <tr>\n",
       "      <th>1499</th>\n",
       "      <td>0.25</td>\n",
       "      <td>0.350785</td>\n",
       "      <td>0.0</td>\n",
       "      <td>0.493976</td>\n",
       "      <td>0.121076</td>\n",
       "    </tr>\n",
       "    <tr>\n",
       "      <th>1500</th>\n",
       "      <td>0.00</td>\n",
       "      <td>0.500000</td>\n",
       "      <td>1.0</td>\n",
       "      <td>0.662651</td>\n",
       "      <td>0.161435</td>\n",
       "    </tr>\n",
       "    <tr>\n",
       "      <th>1501</th>\n",
       "      <td>0.00</td>\n",
       "      <td>0.138743</td>\n",
       "      <td>0.0</td>\n",
       "      <td>0.421687</td>\n",
       "      <td>0.121435</td>\n",
       "    </tr>\n",
       "    <tr>\n",
       "      <th>1502</th>\n",
       "      <td>0.25</td>\n",
       "      <td>0.594241</td>\n",
       "      <td>0.0</td>\n",
       "      <td>0.662651</td>\n",
       "      <td>0.269058</td>\n",
       "    </tr>\n",
       "    <tr>\n",
       "      <th>1503</th>\n",
       "      <td>0.25</td>\n",
       "      <td>0.560209</td>\n",
       "      <td>0.0</td>\n",
       "      <td>0.638554</td>\n",
       "      <td>0.340807</td>\n",
       "    </tr>\n",
       "  </tbody>\n",
       "</table>\n",
       "<p>1504 rows × 5 columns</p>\n",
       "</div>"
      ],
      "text/plain": [
       "      University Rating      CGPA  Research  GRE Score  Admission Points\n",
       "0                  0.75  0.727749       1.0   0.843373          0.452646\n",
       "1                  0.00  0.421466       0.0   0.530120          0.099372\n",
       "2                  0.00  0.468586       0.0   0.481928          0.120359\n",
       "3                  0.50  0.628272       0.0   0.554217          0.251121\n",
       "4                  0.25  0.701571       1.0   0.759036          0.349776\n",
       "...                 ...       ...       ...        ...               ...\n",
       "1499               0.25  0.350785       0.0   0.493976          0.121076\n",
       "1500               0.00  0.500000       1.0   0.662651          0.161435\n",
       "1501               0.00  0.138743       0.0   0.421687          0.121435\n",
       "1502               0.25  0.594241       0.0   0.662651          0.269058\n",
       "1503               0.25  0.560209       0.0   0.638554          0.340807\n",
       "\n",
       "[1504 rows x 5 columns]"
      ]
     },
     "execution_count": 12,
     "metadata": {},
     "output_type": "execute_result"
    }
   ],
   "source": [
    "# Ejecutamos la preparación y volvemos a poner los datos en un dataframe\n",
    "d = pipeline1.fit_transform(df_tracks)\n",
    "d = pd.DataFrame(data=d,columns=['University Rating','CGPA','Research','GRE Score', 'Admission Points'])\n",
    "d"
   ]
  },
  {
   "cell_type": "code",
   "execution_count": 13,
   "id": "9117aa20",
   "metadata": {},
   "outputs": [],
   "source": [
    "# Preparación datos para entrenar\n",
    "\n",
    "selected_cols = ['University Rating','CGPA','Research']\n",
    "\n",
    "t=[ (\"selector\", 'passthrough',selected_cols)]\n",
    "\n",
    "pre = [('initial',ColumnTransformer(transformers = t)), #seleccionar unicamente las columnas que se quieren usar\n",
    "       ('scaler', MinMaxScaler()) ] #Escalar los datos de -1 a 1\n"
   ]
  },
  {
   "cell_type": "markdown",
   "id": "d64287ba",
   "metadata": {},
   "source": [
    "# Modelo"
   ]
  },
  {
   "cell_type": "code",
   "execution_count": 14,
   "id": "8c98779b",
   "metadata": {},
   "outputs": [],
   "source": [
    "# Se genera el modelo\n",
    "\n",
    "model = [('model', LinearRegression())]"
   ]
  },
  {
   "cell_type": "code",
   "execution_count": 15,
   "id": "02189610",
   "metadata": {},
   "outputs": [],
   "source": [
    "#Se crea el pipeline de entrenamiento\n",
    "pipeline = Pipeline(pre+model)"
   ]
  },
  {
   "cell_type": "code",
   "execution_count": 16,
   "id": "7ba4dd49",
   "metadata": {},
   "outputs": [],
   "source": [
    "# Se extrae las variables explicativas y objetivo para entrenar\n",
    "\n",
    "X = d[selected_cols]\n",
    "y = d['Admission Points']\n",
    "\n",
    "# Se entrena el modelo\n",
    "pipeline = pipeline.fit(X,y)"
   ]
  },
  {
   "cell_type": "code",
   "execution_count": 17,
   "id": "df31240a",
   "metadata": {},
   "outputs": [
    {
     "data": {
      "image/png": "[encoded data removed]",
      "text/plain": [
       "<Figure size 864x288 with 3 Axes>"
      ]
     },
     "metadata": {
      "needs_background": "light"
     },
     "output_type": "display_data"
    }
   ],
   "source": [
    "# Se visualiza la regresión lineal en cada dimensión\n",
    "\n",
    "f, axs = plt.subplots(1, len(selected_cols), sharey=True, figsize = (12,4))\n",
    "\n",
    "for i in range(len(selected_cols)):\n",
    "\n",
    "    pos_col = i\n",
    "    col = selected_cols[pos_col]\n",
    "\n",
    "    # Variable x\n",
    "    x = X[col]\n",
    "    # Pendiente\n",
    "    m = pipeline['model'].coef_[pos_col]\n",
    "    # Interceto\n",
    "    b = pipeline['model'].intercept_\n",
    "\n",
    "    axs[i].plot(x, y, 'o', alpha = 0.1)\n",
    "    axs[i].plot(x, x*m + b)\n",
    "    axs[i].set_title(col)"
   ]
  },
  {
   "cell_type": "code",
   "execution_count": 18,
   "id": "ce609ec8",
   "metadata": {},
   "outputs": [
    {
     "data": {
      "text/plain": [
       "['modelo.joblib']"
      ]
     },
     "execution_count": 18,
     "metadata": {},
     "output_type": "execute_result"
    }
   ],
   "source": [
    "# Usamos la lbreria joblib\n",
    "filename = 'modelo.joblib'\n",
    "# Se guarda\n",
    "dump(pipeline, filename) "
   ]
  },
  {
   "cell_type": "code",
   "execution_count": 19,
   "id": "a3cff0bb",
   "metadata": {},
   "outputs": [
    {
     "data": {
      "text/plain": [
       "Pipeline(steps=[('initial',\n",
       "                 ColumnTransformer(transformers=[('selector', 'passthrough',\n",
       "                                                  ['University Rating', 'CGPA',\n",
       "                                                   'Research'])])),\n",
       "                ('scaler', MinMaxScaler()), ('model', LinearRegression())])"
      ]
     },
     "execution_count": 19,
     "metadata": {},
     "output_type": "execute_result"
    }
   ],
   "source": [
    "# Se lee\n",
    "p2 = load(filename)\n",
    "p2"
   ]
  },
  {
   "cell_type": "code",
   "execution_count": 20,
   "id": "33f92705",
   "metadata": {},
   "outputs": [],
   "source": [
    "# Clasificamos los datos recientes\n",
    "df_recent1=df_recent\n",
    "df_recent1['Admission Points'] = p2.predict(df_recent1)"
   ]
  },
  {
   "cell_type": "code",
   "execution_count": 21,
   "id": "bf4ee3da",
   "metadata": {},
   "outputs": [
    {
     "data": {
      "text/plain": [
       "(array([17.,  8., 35., 17., 24., 17., 11., 20., 10., 16.]),\n",
       " array([1.7270968 , 1.88934482, 2.05159283, 2.21384085, 2.37608886,\n",
       "        2.53833687, 2.70058489, 2.8628329 , 3.02508092, 3.18732893,\n",
       "        3.34957695]),\n",
       " <BarContainer object of 10 artists>)"
      ]
     },
     "execution_count": 21,
     "metadata": {},
     "output_type": "execute_result"
    },
    {
     "data": {
      "image/png": "[encoded data removed]",
      "text/plain": [
       "<Figure size 432x288 with 1 Axes>"
      ]
     },
     "metadata": {
      "needs_background": "light"
     },
     "output_type": "display_data"
    }
   ],
   "source": [
    "#Visualizamos la predicción de puntajes\n",
    "\n",
    "#sns.histplot(df_recent['Admission Points'])\n",
    "plt.hist(df_recent['Admission Points'])"
   ]
  },
  {
   "cell_type": "code",
   "execution_count": 22,
   "id": "ad0a6a27",
   "metadata": {},
   "outputs": [
    {
     "data": {
      "text/html": [
       "<div>\n",
       "<style scoped>\n",
       "    .dataframe tbody tr th:only-of-type {\n",
       "        vertical-align: middle;\n",
       "    }\n",
       "\n",
       "    .dataframe tbody tr th {\n",
       "        vertical-align: top;\n",
       "    }\n",
       "\n",
       "    .dataframe thead th {\n",
       "        text-align: right;\n",
       "    }\n",
       "</style>\n",
       "<table border=\"1\" class=\"dataframe\">\n",
       "  <thead>\n",
       "    <tr style=\"text-align: right;\">\n",
       "      <th></th>\n",
       "      <th>columns</th>\n",
       "      <th>coef</th>\n",
       "    </tr>\n",
       "  </thead>\n",
       "  <tbody>\n",
       "    <tr>\n",
       "      <th>0</th>\n",
       "      <td>University Rating</td>\n",
       "      <td>0.244894</td>\n",
       "    </tr>\n",
       "    <tr>\n",
       "      <th>1</th>\n",
       "      <td>CGPA</td>\n",
       "      <td>0.203655</td>\n",
       "    </tr>\n",
       "    <tr>\n",
       "      <th>2</th>\n",
       "      <td>Research</td>\n",
       "      <td>0.105257</td>\n",
       "    </tr>\n",
       "  </tbody>\n",
       "</table>\n",
       "</div>"
      ],
      "text/plain": [
       "             columns      coef\n",
       "0  University Rating  0.244894\n",
       "1               CGPA  0.203655\n",
       "2           Research  0.105257"
      ]
     },
     "execution_count": 22,
     "metadata": {},
     "output_type": "execute_result"
    }
   ],
   "source": [
    "#Vemos la importancia de los features con los que entrenamos\n",
    "pd.DataFrame({'columns':selected_cols, 'coef':pipeline['model'].coef_})"
   ]
  },
  {
   "cell_type": "code",
   "execution_count": 23,
   "id": "1d017e74",
   "metadata": {},
   "outputs": [],
   "source": [
    "# Extraemos las variables explicativas y objetivo para entrenar\n",
    "\n",
    "X = d.drop('Admission Points', axis = 1)\n",
    "y = d['Admission Points']\n",
    "\n",
    "pipeline = pipeline.fit(X,y)"
   ]
  },
  {
   "cell_type": "code",
   "execution_count": 24,
   "id": "b750fdcd",
   "metadata": {},
   "outputs": [
    {
     "data": {
      "text/html": [
       "<div>\n",
       "<style scoped>\n",
       "    .dataframe tbody tr th:only-of-type {\n",
       "        vertical-align: middle;\n",
       "    }\n",
       "\n",
       "    .dataframe tbody tr th {\n",
       "        vertical-align: top;\n",
       "    }\n",
       "\n",
       "    .dataframe thead th {\n",
       "        text-align: right;\n",
       "    }\n",
       "</style>\n",
       "<table border=\"1\" class=\"dataframe\">\n",
       "  <thead>\n",
       "    <tr style=\"text-align: right;\">\n",
       "      <th></th>\n",
       "      <th>columns</th>\n",
       "      <th>coef</th>\n",
       "    </tr>\n",
       "  </thead>\n",
       "  <tbody>\n",
       "    <tr>\n",
       "      <th>0</th>\n",
       "      <td>University Rating</td>\n",
       "      <td>0.244894</td>\n",
       "    </tr>\n",
       "    <tr>\n",
       "      <th>1</th>\n",
       "      <td>CGPA</td>\n",
       "      <td>0.203655</td>\n",
       "    </tr>\n",
       "    <tr>\n",
       "      <th>2</th>\n",
       "      <td>Research</td>\n",
       "      <td>0.105257</td>\n",
       "    </tr>\n",
       "  </tbody>\n",
       "</table>\n",
       "</div>"
      ],
      "text/plain": [
       "             columns      coef\n",
       "0  University Rating  0.244894\n",
       "1               CGPA  0.203655\n",
       "2           Research  0.105257"
      ]
     },
     "execution_count": 24,
     "metadata": {},
     "output_type": "execute_result"
    }
   ],
   "source": [
    "# Imprimir los coeficientes nuevamente\n",
    "\n",
    "pd.DataFrame({'columns':selected_cols, 'coef':pipeline['model'].coef_})"
   ]
  },
  {
   "cell_type": "markdown",
   "id": "f4aa6dad",
   "metadata": {},
   "source": [
    "# Evaluación cuantitativa"
   ]
  },
  {
   "cell_type": "code",
   "execution_count": 25,
   "id": "87914df4",
   "metadata": {},
   "outputs": [
    {
     "data": {
      "text/plain": [
       "0.690088535136133"
      ]
     },
     "execution_count": 25,
     "metadata": {},
     "output_type": "execute_result"
    }
   ],
   "source": [
    "# R²\n",
    "p2.score(X,y)"
   ]
  },
  {
   "cell_type": "code",
   "execution_count": 26,
   "id": "26dea63c",
   "metadata": {},
   "outputs": [
    {
     "data": {
      "text/plain": [
       "0.09609451519807208"
      ]
     },
     "execution_count": 26,
     "metadata": {},
     "output_type": "execute_result"
    }
   ],
   "source": [
    "#RMSE\n",
    "\n",
    "y_true = y\n",
    "y_predicted = p2.predict(X)\n",
    "\n",
    "# Note que hay que sacarle la raiz al valor\n",
    "np.sqrt(mse(y_true, y_predicted))"
   ]
  },
  {
   "cell_type": "markdown",
   "id": "0dedffc1",
   "metadata": {},
   "source": [
    "**¿Su equipo recomienda instalar el modelo de estimación en producción o es mejor continuar usando expertos para la tarea?**\n",
    "\n",
    "El modelo de estimación de nuestro equipo muestra unas metricas buenas, sin embargo aun creemos que no son lo suficientemente adecuados para ser puestos en producción. Una vez las metricas alcancen R^2 > 0.8 y RSME < 0.06, consideramos que el modelo es suficiente para el uso en producción. Por lo tanto, por el momento se recomienta continuar usando expertos para la tarea y seguir ajustando el modelo"
   ]
  },
  {
   "cell_type": "markdown",
   "id": "a3ade91f",
   "metadata": {},
   "source": [
    "**En caso de no recomendar el uso de un modelo de regresión ¿Qué otras posibilidades tiene la empresa? ¿Hacia dónde debe seguir con esta tarea?**\n",
    "\n",
    "En este caso se podría recomendar en vez de intentar predecir el puntaje de admisión, acordar un puntaje suficientemente bueno para decidir si un candidato es elegible y convertir esto a una tarea de aprendizaje de clasificación. Este tipo de aprendeizaje consideramos que resuelve las necesidades presentadas."
   ]
  },
  {
   "cell_type": "markdown",
   "id": "d4f5901d",
   "metadata": {},
   "source": [
    "# Evaluación cualitativa"
   ]
  },
  {
   "cell_type": "markdown",
   "id": "03c554ff",
   "metadata": {},
   "source": [
    "## Validación de supuestos\n",
    "**¿Qué obtuvieron con el ejercicio de regresión?**\n",
    "\n",
    "Con el modelo de regresión obtuvimos un sistema cuantitativo para estimar el puntaje de admision de un candidato."
   ]
  },
  {
   "cell_type": "markdown",
   "id": "00819a41",
   "metadata": {},
   "source": [
    "## Interpretación de los coeficientes\n",
    "**¿Cuáles son las variables más influyentes y que tan confiables son los resultados?**\n",
    "\n",
    "Nuestros resultados indican que las variables mas influyentes, en orden de influencia son las siguientes:\n",
    "    - University Rating\n",
    "    - sqrt(CGPA)\n",
    "    - Research\n",
    "    \n",
    "Los resultados son bastante confiables segun las metricas obtenidas del modelo. Sin embargo, como ya fue expresado previamente, no consideramos que sean aun lo suficientemente confiables para ser usadas en un ambiente de producción."
   ]
  },
  {
   "cell_type": "markdown",
   "id": "dfee4e4c",
   "metadata": {},
   "source": [
    "# Preparación datos de prueba"
   ]
  },
  {
   "cell_type": "code",
   "execution_count": 27,
   "id": "c54bbc48",
   "metadata": {},
   "outputs": [
    {
     "data": {
      "text/html": [
       "<div>\n",
       "<style scoped>\n",
       "    .dataframe tbody tr th:only-of-type {\n",
       "        vertical-align: middle;\n",
       "    }\n",
       "\n",
       "    .dataframe tbody tr th {\n",
       "        vertical-align: top;\n",
       "    }\n",
       "\n",
       "    .dataframe thead th {\n",
       "        text-align: right;\n",
       "    }\n",
       "</style>\n",
       "<table border=\"1\" class=\"dataframe\">\n",
       "  <thead>\n",
       "    <tr style=\"text-align: right;\">\n",
       "      <th></th>\n",
       "      <th>Research</th>\n",
       "    </tr>\n",
       "  </thead>\n",
       "  <tbody>\n",
       "    <tr>\n",
       "      <th>0</th>\n",
       "      <td>0</td>\n",
       "    </tr>\n",
       "    <tr>\n",
       "      <th>1</th>\n",
       "      <td>1</td>\n",
       "    </tr>\n",
       "    <tr>\n",
       "      <th>2</th>\n",
       "      <td>1</td>\n",
       "    </tr>\n",
       "    <tr>\n",
       "      <th>3</th>\n",
       "      <td>1</td>\n",
       "    </tr>\n",
       "    <tr>\n",
       "      <th>4</th>\n",
       "      <td>0</td>\n",
       "    </tr>\n",
       "    <tr>\n",
       "      <th>...</th>\n",
       "      <td>...</td>\n",
       "    </tr>\n",
       "    <tr>\n",
       "      <th>170</th>\n",
       "      <td>1</td>\n",
       "    </tr>\n",
       "    <tr>\n",
       "      <th>171</th>\n",
       "      <td>0</td>\n",
       "    </tr>\n",
       "    <tr>\n",
       "      <th>172</th>\n",
       "      <td>0</td>\n",
       "    </tr>\n",
       "    <tr>\n",
       "      <th>173</th>\n",
       "      <td>0</td>\n",
       "    </tr>\n",
       "    <tr>\n",
       "      <th>174</th>\n",
       "      <td>1</td>\n",
       "    </tr>\n",
       "  </tbody>\n",
       "</table>\n",
       "<p>175 rows × 1 columns</p>\n",
       "</div>"
      ],
      "text/plain": [
       "     Research\n",
       "0           0\n",
       "1           1\n",
       "2           1\n",
       "3           1\n",
       "4           0\n",
       "..        ...\n",
       "170         1\n",
       "171         0\n",
       "172         0\n",
       "173         0\n",
       "174         1\n",
       "\n",
       "[175 rows x 1 columns]"
      ]
     },
     "execution_count": 27,
     "metadata": {},
     "output_type": "execute_result"
    }
   ],
   "source": [
    "X1 = df_recent[['Research']]\n",
    "X1.to_csv(\"data/pruebas/prueba1.csv\")\n",
    "X1.to_json(\"data/pruebas/prueba1.json\")\n",
    "X1"
   ]
  },
  {
   "cell_type": "code",
   "execution_count": 28,
   "id": "43e13484",
   "metadata": {},
   "outputs": [
    {
     "name": "stdout",
     "output_type": "stream",
     "text": [
      "columns are missing: {'CGPA', 'University Rating'}\n"
     ]
    }
   ],
   "source": [
    "\"Error\"\n",
    "try:\n",
    "    p2.predict(X1)\n",
    "except Exception as err:\n",
    "    print(err)"
   ]
  },
  {
   "cell_type": "code",
   "execution_count": 29,
   "id": "a9e69929",
   "metadata": {},
   "outputs": [
    {
     "data": {
      "text/html": [
       "<div>\n",
       "<style scoped>\n",
       "    .dataframe tbody tr th:only-of-type {\n",
       "        vertical-align: middle;\n",
       "    }\n",
       "\n",
       "    .dataframe tbody tr th {\n",
       "        vertical-align: top;\n",
       "    }\n",
       "\n",
       "    .dataframe thead th {\n",
       "        text-align: right;\n",
       "    }\n",
       "</style>\n",
       "<table border=\"1\" class=\"dataframe\">\n",
       "  <thead>\n",
       "    <tr style=\"text-align: right;\">\n",
       "      <th></th>\n",
       "      <th>University Rating</th>\n",
       "      <th>CGPA</th>\n",
       "      <th>Research</th>\n",
       "    </tr>\n",
       "  </thead>\n",
       "  <tbody>\n",
       "    <tr>\n",
       "      <th>0</th>\n",
       "      <td>1.0</td>\n",
       "      <td>1.0</td>\n",
       "      <td>1.0</td>\n",
       "    </tr>\n",
       "    <tr>\n",
       "      <th>1</th>\n",
       "      <td>1.0</td>\n",
       "      <td>1.0</td>\n",
       "      <td>1.0</td>\n",
       "    </tr>\n",
       "    <tr>\n",
       "      <th>2</th>\n",
       "      <td>1.0</td>\n",
       "      <td>1.0</td>\n",
       "      <td>1.0</td>\n",
       "    </tr>\n",
       "    <tr>\n",
       "      <th>3</th>\n",
       "      <td>1.0</td>\n",
       "      <td>1.0</td>\n",
       "      <td>1.0</td>\n",
       "    </tr>\n",
       "    <tr>\n",
       "      <th>4</th>\n",
       "      <td>1.0</td>\n",
       "      <td>1.0</td>\n",
       "      <td>1.0</td>\n",
       "    </tr>\n",
       "    <tr>\n",
       "      <th>...</th>\n",
       "      <td>...</td>\n",
       "      <td>...</td>\n",
       "      <td>...</td>\n",
       "    </tr>\n",
       "    <tr>\n",
       "      <th>170</th>\n",
       "      <td>1.0</td>\n",
       "      <td>1.0</td>\n",
       "      <td>1.0</td>\n",
       "    </tr>\n",
       "    <tr>\n",
       "      <th>171</th>\n",
       "      <td>1.0</td>\n",
       "      <td>1.0</td>\n",
       "      <td>1.0</td>\n",
       "    </tr>\n",
       "    <tr>\n",
       "      <th>172</th>\n",
       "      <td>1.0</td>\n",
       "      <td>1.0</td>\n",
       "      <td>1.0</td>\n",
       "    </tr>\n",
       "    <tr>\n",
       "      <th>173</th>\n",
       "      <td>1.0</td>\n",
       "      <td>1.0</td>\n",
       "      <td>1.0</td>\n",
       "    </tr>\n",
       "    <tr>\n",
       "      <th>174</th>\n",
       "      <td>1.0</td>\n",
       "      <td>1.0</td>\n",
       "      <td>1.0</td>\n",
       "    </tr>\n",
       "  </tbody>\n",
       "</table>\n",
       "<p>175 rows × 3 columns</p>\n",
       "</div>"
      ],
      "text/plain": [
       "     University Rating  CGPA  Research\n",
       "0                  1.0   1.0       1.0\n",
       "1                  1.0   1.0       1.0\n",
       "2                  1.0   1.0       1.0\n",
       "3                  1.0   1.0       1.0\n",
       "4                  1.0   1.0       1.0\n",
       "..                 ...   ...       ...\n",
       "170                1.0   1.0       1.0\n",
       "171                1.0   1.0       1.0\n",
       "172                1.0   1.0       1.0\n",
       "173                1.0   1.0       1.0\n",
       "174                1.0   1.0       1.0\n",
       "\n",
       "[175 rows x 3 columns]"
      ]
     },
     "execution_count": 29,
     "metadata": {},
     "output_type": "execute_result"
    }
   ],
   "source": [
    "X2 = pd.DataFrame(np.ones((len(X1),3)),columns=selected_cols)\n",
    "X2.to_csv(\"data/pruebas/prueba2.csv\")\n",
    "X2.to_json(\"data/pruebas/prueba2.json\")\n",
    "X2"
   ]
  },
  {
   "cell_type": "code",
   "execution_count": 30,
   "id": "c87a8fc7",
   "metadata": {},
   "outputs": [
    {
     "name": "stdout",
     "output_type": "stream",
     "text": [
      "[0.563585 0.563585 0.563585 0.563585 0.563585 0.563585 0.563585 0.563585\n",
      " 0.563585 0.563585 0.563585 0.563585 0.563585 0.563585 0.563585 0.563585\n",
      " 0.563585 0.563585 0.563585 0.563585 0.563585 0.563585 0.563585 0.563585\n",
      " 0.563585 0.563585 0.563585 0.563585 0.563585 0.563585 0.563585 0.563585\n",
      " 0.563585 0.563585 0.563585 0.563585 0.563585 0.563585 0.563585 0.563585\n",
      " 0.563585 0.563585 0.563585 0.563585 0.563585 0.563585 0.563585 0.563585\n",
      " 0.563585 0.563585 0.563585 0.563585 0.563585 0.563585 0.563585 0.563585\n",
      " 0.563585 0.563585 0.563585 0.563585 0.563585 0.563585 0.563585 0.563585\n",
      " 0.563585 0.563585 0.563585 0.563585 0.563585 0.563585 0.563585 0.563585\n",
      " 0.563585 0.563585 0.563585 0.563585 0.563585 0.563585 0.563585 0.563585\n",
      " 0.563585 0.563585 0.563585 0.563585 0.563585 0.563585 0.563585 0.563585\n",
      " 0.563585 0.563585 0.563585 0.563585 0.563585 0.563585 0.563585 0.563585\n",
      " 0.563585 0.563585 0.563585 0.563585 0.563585 0.563585 0.563585 0.563585\n",
      " 0.563585 0.563585 0.563585 0.563585 0.563585 0.563585 0.563585 0.563585\n",
      " 0.563585 0.563585 0.563585 0.563585 0.563585 0.563585 0.563585 0.563585\n",
      " 0.563585 0.563585 0.563585 0.563585 0.563585 0.563585 0.563585 0.563585\n",
      " 0.563585 0.563585 0.563585 0.563585 0.563585 0.563585 0.563585 0.563585\n",
      " 0.563585 0.563585 0.563585 0.563585 0.563585 0.563585 0.563585 0.563585\n",
      " 0.563585 0.563585 0.563585 0.563585 0.563585 0.563585 0.563585 0.563585\n",
      " 0.563585 0.563585 0.563585 0.563585 0.563585 0.563585 0.563585 0.563585\n",
      " 0.563585 0.563585 0.563585 0.563585 0.563585 0.563585 0.563585 0.563585\n",
      " 0.563585 0.563585 0.563585 0.563585 0.563585 0.563585 0.563585]\n"
     ]
    }
   ],
   "source": [
    "\"Resultados sin sentido\"\n",
    "try:\n",
    "    print(p2.predict(X2))\n",
    "except Exception as err:\n",
    "    print(err)"
   ]
  },
  {
   "cell_type": "code",
   "execution_count": 31,
   "id": "a11086f0",
   "metadata": {},
   "outputs": [
    {
     "data": {
      "text/html": [
       "<div>\n",
       "<style scoped>\n",
       "    .dataframe tbody tr th:only-of-type {\n",
       "        vertical-align: middle;\n",
       "    }\n",
       "\n",
       "    .dataframe tbody tr th {\n",
       "        vertical-align: top;\n",
       "    }\n",
       "\n",
       "    .dataframe thead th {\n",
       "        text-align: right;\n",
       "    }\n",
       "</style>\n",
       "<table border=\"1\" class=\"dataframe\">\n",
       "  <thead>\n",
       "    <tr style=\"text-align: right;\">\n",
       "      <th></th>\n",
       "      <th>University Rating</th>\n",
       "      <th>CGPA</th>\n",
       "      <th>Research</th>\n",
       "    </tr>\n",
       "  </thead>\n",
       "  <tbody>\n",
       "    <tr>\n",
       "      <th>0</th>\n",
       "      <td>NaN</td>\n",
       "      <td>NaN</td>\n",
       "      <td>NaN</td>\n",
       "    </tr>\n",
       "    <tr>\n",
       "      <th>1</th>\n",
       "      <td>NaN</td>\n",
       "      <td>NaN</td>\n",
       "      <td>NaN</td>\n",
       "    </tr>\n",
       "    <tr>\n",
       "      <th>2</th>\n",
       "      <td>NaN</td>\n",
       "      <td>NaN</td>\n",
       "      <td>NaN</td>\n",
       "    </tr>\n",
       "    <tr>\n",
       "      <th>3</th>\n",
       "      <td>NaN</td>\n",
       "      <td>NaN</td>\n",
       "      <td>NaN</td>\n",
       "    </tr>\n",
       "    <tr>\n",
       "      <th>4</th>\n",
       "      <td>NaN</td>\n",
       "      <td>NaN</td>\n",
       "      <td>NaN</td>\n",
       "    </tr>\n",
       "    <tr>\n",
       "      <th>...</th>\n",
       "      <td>...</td>\n",
       "      <td>...</td>\n",
       "      <td>...</td>\n",
       "    </tr>\n",
       "    <tr>\n",
       "      <th>170</th>\n",
       "      <td>NaN</td>\n",
       "      <td>NaN</td>\n",
       "      <td>NaN</td>\n",
       "    </tr>\n",
       "    <tr>\n",
       "      <th>171</th>\n",
       "      <td>NaN</td>\n",
       "      <td>NaN</td>\n",
       "      <td>NaN</td>\n",
       "    </tr>\n",
       "    <tr>\n",
       "      <th>172</th>\n",
       "      <td>NaN</td>\n",
       "      <td>NaN</td>\n",
       "      <td>NaN</td>\n",
       "    </tr>\n",
       "    <tr>\n",
       "      <th>173</th>\n",
       "      <td>NaN</td>\n",
       "      <td>NaN</td>\n",
       "      <td>NaN</td>\n",
       "    </tr>\n",
       "    <tr>\n",
       "      <th>174</th>\n",
       "      <td>NaN</td>\n",
       "      <td>NaN</td>\n",
       "      <td>NaN</td>\n",
       "    </tr>\n",
       "  </tbody>\n",
       "</table>\n",
       "<p>175 rows × 3 columns</p>\n",
       "</div>"
      ],
      "text/plain": [
       "     University Rating  CGPA  Research\n",
       "0                  NaN   NaN       NaN\n",
       "1                  NaN   NaN       NaN\n",
       "2                  NaN   NaN       NaN\n",
       "3                  NaN   NaN       NaN\n",
       "4                  NaN   NaN       NaN\n",
       "..                 ...   ...       ...\n",
       "170                NaN   NaN       NaN\n",
       "171                NaN   NaN       NaN\n",
       "172                NaN   NaN       NaN\n",
       "173                NaN   NaN       NaN\n",
       "174                NaN   NaN       NaN\n",
       "\n",
       "[175 rows x 3 columns]"
      ]
     },
     "execution_count": 31,
     "metadata": {},
     "output_type": "execute_result"
    }
   ],
   "source": [
    "X3 = np.ones((len(X1),3))\n",
    "X3[:]=np.nan\n",
    "X3 = pd.DataFrame(X3,columns=selected_cols)\n",
    "X3.to_csv(\"data/pruebas/prueba3.csv\")\n",
    "X3.to_json(\"data/pruebas/prueba3.json\")\n",
    "X3"
   ]
  },
  {
   "cell_type": "code",
   "execution_count": 32,
   "id": "6354a274",
   "metadata": {},
   "outputs": [
    {
     "name": "stdout",
     "output_type": "stream",
     "text": [
      "Input contains NaN, infinity or a value too large for dtype('float64').\n"
     ]
    }
   ],
   "source": [
    "\"Resultados sin sentido\"\n",
    "try:\n",
    "    res = p2.predict(X3)\n",
    "    print(res)\n",
    "except Exception as err:\n",
    "    print(err)"
   ]
  },
  {
   "cell_type": "code",
   "execution_count": 33,
   "id": "3e08b172",
   "metadata": {},
   "outputs": [
    {
     "name": "stdout",
     "output_type": "stream",
     "text": [
      "0\n"
     ]
    },
    {
     "name": "stderr",
     "output_type": "stream",
     "text": [
      "/var/folders/76/3j27vxbs3m98vw358_6b2rvm0000gn/T/ipykernel_47721/1530189223.py:2: SettingWithCopyWarning: \n",
      "A value is trying to be set on a copy of a slice from a DataFrame.\n",
      "Try using .loc[row_indexer,col_indexer] = value instead\n",
      "\n",
      "See the caveats in the documentation: https://pandas.pydata.org/pandas-docs/stable/user_guide/indexing.html#returning-a-view-versus-a-copy\n",
      "  X4[selected_cols[0]]-=1\n",
      "/var/folders/76/3j27vxbs3m98vw358_6b2rvm0000gn/T/ipykernel_47721/1530189223.py:3: SettingWithCopyWarning: \n",
      "A value is trying to be set on a copy of a slice from a DataFrame.\n",
      "Try using .loc[row_indexer,col_indexer] = value instead\n",
      "\n",
      "See the caveats in the documentation: https://pandas.pydata.org/pandas-docs/stable/user_guide/indexing.html#returning-a-view-versus-a-copy\n",
      "  X4[selected_cols[1]]+=np.mean(X4[selected_cols[1]])\n",
      "/var/folders/76/3j27vxbs3m98vw358_6b2rvm0000gn/T/ipykernel_47721/1530189223.py:4: SettingWithCopyWarning: \n",
      "A value is trying to be set on a copy of a slice from a DataFrame.\n",
      "Try using .loc[row_indexer,col_indexer] = value instead\n",
      "\n",
      "See the caveats in the documentation: https://pandas.pydata.org/pandas-docs/stable/user_guide/indexing.html#returning-a-view-versus-a-copy\n",
      "  X4[selected_cols[2]]=-(X4[selected_cols[2]]-1)\n"
     ]
    },
    {
     "data": {
      "text/html": [
       "<div>\n",
       "<style scoped>\n",
       "    .dataframe tbody tr th:only-of-type {\n",
       "        vertical-align: middle;\n",
       "    }\n",
       "\n",
       "    .dataframe tbody tr th {\n",
       "        vertical-align: top;\n",
       "    }\n",
       "\n",
       "    .dataframe thead th {\n",
       "        text-align: right;\n",
       "    }\n",
       "</style>\n",
       "<table border=\"1\" class=\"dataframe\">\n",
       "  <thead>\n",
       "    <tr style=\"text-align: right;\">\n",
       "      <th></th>\n",
       "      <th>University Rating</th>\n",
       "      <th>CGPA</th>\n",
       "      <th>Research</th>\n",
       "    </tr>\n",
       "  </thead>\n",
       "  <tbody>\n",
       "    <tr>\n",
       "      <th>0</th>\n",
       "      <td>2</td>\n",
       "      <td>17.067143</td>\n",
       "      <td>1</td>\n",
       "    </tr>\n",
       "    <tr>\n",
       "      <th>1</th>\n",
       "      <td>2</td>\n",
       "      <td>17.297143</td>\n",
       "      <td>0</td>\n",
       "    </tr>\n",
       "    <tr>\n",
       "      <th>2</th>\n",
       "      <td>1</td>\n",
       "      <td>16.327143</td>\n",
       "      <td>0</td>\n",
       "    </tr>\n",
       "    <tr>\n",
       "      <th>3</th>\n",
       "      <td>3</td>\n",
       "      <td>17.907143</td>\n",
       "      <td>0</td>\n",
       "    </tr>\n",
       "    <tr>\n",
       "      <th>4</th>\n",
       "      <td>2</td>\n",
       "      <td>16.467143</td>\n",
       "      <td>1</td>\n",
       "    </tr>\n",
       "    <tr>\n",
       "      <th>...</th>\n",
       "      <td>...</td>\n",
       "      <td>...</td>\n",
       "      <td>...</td>\n",
       "    </tr>\n",
       "    <tr>\n",
       "      <th>170</th>\n",
       "      <td>3</td>\n",
       "      <td>17.677143</td>\n",
       "      <td>0</td>\n",
       "    </tr>\n",
       "    <tr>\n",
       "      <th>171</th>\n",
       "      <td>0</td>\n",
       "      <td>16.147143</td>\n",
       "      <td>1</td>\n",
       "    </tr>\n",
       "    <tr>\n",
       "      <th>172</th>\n",
       "      <td>0</td>\n",
       "      <td>16.217143</td>\n",
       "      <td>1</td>\n",
       "    </tr>\n",
       "    <tr>\n",
       "      <th>173</th>\n",
       "      <td>1</td>\n",
       "      <td>16.767143</td>\n",
       "      <td>1</td>\n",
       "    </tr>\n",
       "    <tr>\n",
       "      <th>174</th>\n",
       "      <td>3</td>\n",
       "      <td>17.217143</td>\n",
       "      <td>0</td>\n",
       "    </tr>\n",
       "  </tbody>\n",
       "</table>\n",
       "<p>175 rows × 3 columns</p>\n",
       "</div>"
      ],
      "text/plain": [
       "     University Rating       CGPA  Research\n",
       "0                    2  17.067143         1\n",
       "1                    2  17.297143         0\n",
       "2                    1  16.327143         0\n",
       "3                    3  17.907143         0\n",
       "4                    2  16.467143         1\n",
       "..                 ...        ...       ...\n",
       "170                  3  17.677143         0\n",
       "171                  0  16.147143         1\n",
       "172                  0  16.217143         1\n",
       "173                  1  16.767143         1\n",
       "174                  3  17.217143         0\n",
       "\n",
       "[175 rows x 3 columns]"
      ]
     },
     "execution_count": 33,
     "metadata": {},
     "output_type": "execute_result"
    }
   ],
   "source": [
    "X4 = df_recent[selected_cols]\n",
    "X4[selected_cols[0]]-=1\n",
    "X4[selected_cols[1]]+=np.mean(X4[selected_cols[1]])\n",
    "X4[selected_cols[2]]=-(X4[selected_cols[2]]-1)\n",
    "X4.to_csv(\"data/pruebas/prueba4.csv\")\n",
    "X4.to_json(\"data/pruebas/prueba4.json\")\n",
    "print(min(X4[selected_cols[0]]))\n",
    "X4"
   ]
  },
  {
   "cell_type": "code",
   "execution_count": 34,
   "id": "5dec6479",
   "metadata": {
    "scrolled": false
   },
   "outputs": [
    {
     "name": "stdout",
     "output_type": "stream",
     "text": [
      "[4.08062878 4.02221199 3.57977332 4.39133493 3.95843592 3.69521345\n",
      " 4.3343116  4.32820196 3.98898414 4.4198466  3.62800738 3.66262869\n",
      " 3.97944448 3.88512021 3.56283785 4.35467708 4.64030157 3.61235808\n",
      " 4.29969029 3.64837286 4.09756425 4.46057755 4.57513204 4.00323997\n",
      " 3.86882783 3.44217372 4.63419193 3.64022667 3.88983639 4.09692117\n",
      " 3.80111393 3.4666123  4.43817553 3.6076419  4.55476657 3.67752761\n",
      " 4.38726184 3.49512396 3.92992426 3.68706726 4.53847418 3.59745917\n",
      " 3.70946929 3.85317853 3.80926012 3.68503072 3.67752761 4.2487766\n",
      " 3.38515039 3.71557893 3.63615357 3.39597621 3.64901594 4.70547109\n",
      " 3.91312406 4.00388306 3.76852917 4.53847418 4.01813889 3.75834643\n",
      " 3.98148103 4.37096946 3.64226321 3.73390786 3.67688452 3.4468899\n",
      " 4.37096946 4.79036301 3.88118238 3.88512021 3.66873833 4.11436445\n",
      " 4.08928279 3.42588134 4.70547109 4.57448896 3.39940622 3.99980996\n",
      " 4.1071039  4.10163734 4.38726184 3.68503072 4.71972693 3.96111555\n",
      " 4.42327661 4.27257208 3.66262869 3.99573687 3.71354238 3.63615357\n",
      " 4.00388306 4.07312568 3.3301636  3.88983639 3.71354238 3.36274836\n",
      " 4.41105733 4.29497411 4.0684095  4.6117899  3.72372512 4.63419193\n",
      " 4.32412886 3.34441943 4.11728664 4.59753407 3.86424691 3.99370032\n",
      " 4.36689636 4.40355422 3.39329658 3.63819012 4.00934961 4.43206589\n",
      " 4.36485981 4.55883966 4.70954419 3.30776158 4.27117862 3.68503072\n",
      " 4.57448896 3.85317853 3.35460217 4.43613898 4.04054091 4.42785753\n",
      " 4.19175326 3.97537139 3.87558055 3.67281143 4.09756425 3.54718856\n",
      " 3.69521345 4.07516222 3.73455094 3.99713033 3.70335964 4.63215538\n",
      " 4.53236454 4.67695943 4.11728664 3.37496765 4.27460863 3.64837286\n",
      " 4.00388306 4.0643364  3.63819012 4.27460863 3.67484798 3.67752761\n",
      " 3.46725538 3.59338607 3.85864509 4.2915441  4.06229985 4.6117899\n",
      " 3.11493263 4.10761172 4.02628508 4.58938788 3.36274836 4.35060398\n",
      " 4.03989783 3.75427334 3.84235271 3.61986119 3.36885801 3.88512021\n",
      " 3.80583011 3.78189936 4.34449434 3.40347932 3.41773515 3.77463881\n",
      " 4.25081314]\n"
     ]
    }
   ],
   "source": [
    "\"Resultados con sentido\"\n",
    "try:\n",
    "    res = p2.predict(X4)\n",
    "    print(res)\n",
    "except Exception as err:\n",
    "    print(err)"
   ]
  },
  {
   "cell_type": "code",
   "execution_count": 35,
   "id": "babc4b14",
   "metadata": {},
   "outputs": [],
   "source": [
    "df_recent.to_csv(\"data/pruebas/prueba5.csv\")\n",
    "df_recent.to_json(\"data/pruebas/prueba5.json\")"
   ]
  },
  {
   "cell_type": "code",
   "execution_count": 36,
   "id": "3a9e704f",
   "metadata": {},
   "outputs": [
    {
     "name": "stdout",
     "output_type": "stream",
     "text": [
      "[2.49996401 2.652062   2.20962334 3.02118495 2.37777115 2.11454868\n",
      " 2.96416162 2.95805197 2.40831937 3.04969662 2.04734261 2.08196392\n",
      " 2.6092945  2.30445543 1.98217308 2.98452709 3.27015159 2.2422081\n",
      " 2.92954031 2.06770808 2.72741427 3.09042757 3.20498206 2.4225752\n",
      " 2.28816305 1.86150895 3.26404194 2.05956189 2.5196864  2.51625639\n",
      " 2.22044916 1.88594752 3.06802555 2.02697713 3.18461658 2.30737763\n",
      " 3.01711186 1.91445919 2.34925948 2.10640249 3.1683242  2.01679439\n",
      " 2.12880452 2.48302855 2.22859535 2.10436594 2.30737763 2.87862661\n",
      " 1.80448562 2.13491416 2.0554888  2.02582623 2.27886596 3.33532111\n",
      " 2.33245928 2.63373307 2.1878644  3.1683242  2.64798891 2.17768166\n",
      " 2.61133105 3.00081947 2.06159844 2.15324309 2.09621975 2.07673992\n",
      " 3.00081947 3.20969824 2.51103239 2.30445543 2.08807356 2.74421447\n",
      " 2.50861802 1.84521657 3.33532111 2.99382419 1.81874145 2.62965998\n",
      " 2.52643913 2.73148736 3.01711186 2.10436594 3.34957695 2.59096557\n",
      " 2.84261184 2.69190731 2.08196392 2.62558688 2.13287761 2.0554888\n",
      " 2.63373307 2.70297569 1.74949883 2.5196864  2.13287761 1.78208359\n",
      " 2.83039255 2.71430934 2.48774473 3.24163992 2.14306035 3.26404194\n",
      " 2.95397888 1.76375466 2.53662187 3.22738409 2.28358214 2.62355034\n",
      " 2.99674638 3.03340424 1.81263181 2.05752535 2.42868484 3.0619159\n",
      " 2.99470983 3.18868968 3.33939421 1.7270968  2.90102864 2.10436594\n",
      " 2.99382419 2.48302855 1.7739374  3.065989   2.67039093 2.84719275\n",
      " 2.82160328 2.60522141 2.50543057 2.09214666 2.72741427 2.17703858\n",
      " 2.11454868 2.70501224 2.36440096 2.41646556 2.12269487 3.2620054\n",
      " 3.16221456 3.30680944 2.53662187 1.79430288 2.69394386 2.06770808\n",
      " 2.63373307 2.48367163 2.05752535 2.69394386 2.0941832  2.30737763\n",
      " 2.0971054  2.0127213  2.27798031 2.92139412 2.48163508 3.24163992\n",
      " 1.74478265 2.52694695 2.6561351  3.21923789 1.78208359 2.980454\n",
      " 2.45923306 2.17360856 2.26168793 2.03919642 1.78819323 2.30445543\n",
      " 2.43568013 2.41174938 2.97434435 1.82281454 1.83707038 2.19397404\n",
      " 2.88066316]\n"
     ]
    }
   ],
   "source": [
    "\"Resultados con sentido\"\n",
    "try:\n",
    "    res = p2.predict(df_recent)\n",
    "    print(res)\n",
    "except Exception as err:\n",
    "    print(err)"
   ]
  }
 ],
 "metadata": {
  "kernelspec": {
   "display_name": "Python 3 (ipykernel)",
   "language": "python",
   "name": "python3"
  },
  "language_info": {
   "codemirror_mode": {
    "name": "ipython",
    "version": 3
   },
   "file_extension": ".py",
   "mimetype": "text/x-python",
   "name": "python",
   "nbconvert_exporter": "python",
   "pygments_lexer": "ipython3",
   "version": "3.9.12"
  }
 },
 "nbformat": 4,
 "nbformat_minor": 5
}
