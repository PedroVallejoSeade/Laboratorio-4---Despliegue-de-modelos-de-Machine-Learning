{
 "cells": [
  {
   "cell_type": "code",
   "execution_count": 131,
   "metadata": {},
   "outputs": [],
   "source": [
    "# Cargar librerias\n",
    "\n",
    "import pandas as pd\n",
    "import numpy as np\n",
    "import matplotlib.pyplot as plt\n",
    "import seaborn as sns\n",
    "\n",
    "# Composicion de pipelines\n",
    "from sklearn.compose import ColumnTransformer\n",
    "from sklearn.pipeline import Pipeline\n",
    "from sklearn.impute import SimpleImputer\n",
    "from sklearn.preprocessing import PolynomialFeatures\n",
    "from sklearn.preprocessing import MinMaxScaler, FunctionTransformer\n",
    "\n",
    "# Regresion lineal\n",
    "from sklearn.linear_model import LinearRegression\n",
    "\n",
    "# Importar/ Exportar modelos\n",
    "from joblib import dump, load\n",
    "\n",
    "# Metricas\n",
    "from sklearn.metrics import mean_squared_error as mse\n",
    "\n",
    "# q-q plots\n",
    "import scipy.stats as stats"
   ]
  },
  {
   "cell_type": "code",
   "execution_count": 2,
   "metadata": {},
   "outputs": [
    {
     "name": "stdout",
     "output_type": "stream",
     "text": [
      "(1569, 9)\n"
     ]
    },
    {
     "data": {
      "text/html": [
       "<div>\n",
       "<style scoped>\n",
       "    .dataframe tbody tr th:only-of-type {\n",
       "        vertical-align: middle;\n",
       "    }\n",
       "\n",
       "    .dataframe tbody tr th {\n",
       "        vertical-align: top;\n",
       "    }\n",
       "\n",
       "    .dataframe thead th {\n",
       "        text-align: right;\n",
       "    }\n",
       "</style>\n",
       "<table border=\"1\" class=\"dataframe\">\n",
       "  <thead>\n",
       "    <tr style=\"text-align: right;\">\n",
       "      <th></th>\n",
       "      <th>Serial No.</th>\n",
       "      <th>GRE Score</th>\n",
       "      <th>TOEFL Score</th>\n",
       "      <th>University Rating</th>\n",
       "      <th>SOP</th>\n",
       "      <th>LOR</th>\n",
       "      <th>CGPA</th>\n",
       "      <th>Research</th>\n",
       "      <th>Admission Points</th>\n",
       "    </tr>\n",
       "  </thead>\n",
       "  <tbody>\n",
       "    <tr>\n",
       "      <th>0</th>\n",
       "      <td>479</td>\n",
       "      <td>327</td>\n",
       "      <td>113</td>\n",
       "      <td>4</td>\n",
       "      <td>4.00</td>\n",
       "      <td>2.77</td>\n",
       "      <td>8.88</td>\n",
       "      <td>1</td>\n",
       "      <td>84.47</td>\n",
       "    </tr>\n",
       "    <tr>\n",
       "      <th>1</th>\n",
       "      <td>446</td>\n",
       "      <td>301</td>\n",
       "      <td>92</td>\n",
       "      <td>1</td>\n",
       "      <td>1.85</td>\n",
       "      <td>1.50</td>\n",
       "      <td>7.71</td>\n",
       "      <td>0</td>\n",
       "      <td>45.08</td>\n",
       "    </tr>\n",
       "    <tr>\n",
       "      <th>2</th>\n",
       "      <td>336</td>\n",
       "      <td>297</td>\n",
       "      <td>100</td>\n",
       "      <td>1</td>\n",
       "      <td>2.41</td>\n",
       "      <td>1.59</td>\n",
       "      <td>7.89</td>\n",
       "      <td>0</td>\n",
       "      <td>47.42</td>\n",
       "    </tr>\n",
       "    <tr>\n",
       "      <th>3</th>\n",
       "      <td>20</td>\n",
       "      <td>303</td>\n",
       "      <td>98</td>\n",
       "      <td>3</td>\n",
       "      <td>3.50</td>\n",
       "      <td>3.00</td>\n",
       "      <td>8.50</td>\n",
       "      <td>0</td>\n",
       "      <td>62.00</td>\n",
       "    </tr>\n",
       "    <tr>\n",
       "      <th>4</th>\n",
       "      <td>432</td>\n",
       "      <td>320</td>\n",
       "      <td>94</td>\n",
       "      <td>2</td>\n",
       "      <td>1.38</td>\n",
       "      <td>3.50</td>\n",
       "      <td>8.78</td>\n",
       "      <td>1</td>\n",
       "      <td>73.00</td>\n",
       "    </tr>\n",
       "  </tbody>\n",
       "</table>\n",
       "</div>"
      ],
      "text/plain": [
       "   Serial No.  GRE Score  TOEFL Score  University Rating   SOP  LOR   CGPA  \\\n",
       "0         479        327          113                  4  4.00  2.77  8.88   \n",
       "1         446        301           92                  1  1.85  1.50  7.71   \n",
       "2         336        297          100                  1  2.41  1.59  7.89   \n",
       "3          20        303           98                  3  3.50  3.00  8.50   \n",
       "4         432        320           94                  2  1.38  3.50  8.78   \n",
       "\n",
       "   Research  Admission Points  \n",
       "0         1             84.47  \n",
       "1         0             45.08  \n",
       "2         0             47.42  \n",
       "3         0             62.00  \n",
       "4         1             73.00  "
      ]
     },
     "execution_count": 2,
     "metadata": {},
     "output_type": "execute_result"
    }
   ],
   "source": [
    "# Se cargan los datos de entrenamiento\n",
    "\n",
    "df_original = pd.read_csv('data/university_admission_train.csv', sep=',', encoding = 'utf-8', index_col=0)\n",
    "df_tracks = df_original.copy()\n",
    "print(df_tracks.shape)\n",
    "df_tracks.head(5)"
   ]
  },
  {
   "cell_type": "code",
   "execution_count": 3,
   "metadata": {},
   "outputs": [
    {
     "name": "stdout",
     "output_type": "stream",
     "text": [
      "(175, 8)\n"
     ]
    },
    {
     "data": {
      "text/html": [
       "<div>\n",
       "<style scoped>\n",
       "    .dataframe tbody tr th:only-of-type {\n",
       "        vertical-align: middle;\n",
       "    }\n",
       "\n",
       "    .dataframe tbody tr th {\n",
       "        vertical-align: top;\n",
       "    }\n",
       "\n",
       "    .dataframe thead th {\n",
       "        text-align: right;\n",
       "    }\n",
       "</style>\n",
       "<table border=\"1\" class=\"dataframe\">\n",
       "  <thead>\n",
       "    <tr style=\"text-align: right;\">\n",
       "      <th></th>\n",
       "      <th>Serial No.</th>\n",
       "      <th>GRE Score</th>\n",
       "      <th>TOEFL Score</th>\n",
       "      <th>University Rating</th>\n",
       "      <th>SOP</th>\n",
       "      <th>LOR</th>\n",
       "      <th>CGPA</th>\n",
       "      <th>Research</th>\n",
       "    </tr>\n",
       "  </thead>\n",
       "  <tbody>\n",
       "    <tr>\n",
       "      <th>0</th>\n",
       "      <td>117</td>\n",
       "      <td>299</td>\n",
       "      <td>102</td>\n",
       "      <td>3</td>\n",
       "      <td>4.0</td>\n",
       "      <td>3.5</td>\n",
       "      <td>8.62</td>\n",
       "      <td>0</td>\n",
       "    </tr>\n",
       "    <tr>\n",
       "      <th>1</th>\n",
       "      <td>49</td>\n",
       "      <td>321</td>\n",
       "      <td>110</td>\n",
       "      <td>3</td>\n",
       "      <td>3.5</td>\n",
       "      <td>5.0</td>\n",
       "      <td>8.85</td>\n",
       "      <td>1</td>\n",
       "    </tr>\n",
       "    <tr>\n",
       "      <th>2</th>\n",
       "      <td>94</td>\n",
       "      <td>301</td>\n",
       "      <td>97</td>\n",
       "      <td>2</td>\n",
       "      <td>3.0</td>\n",
       "      <td>3.0</td>\n",
       "      <td>7.88</td>\n",
       "      <td>1</td>\n",
       "    </tr>\n",
       "    <tr>\n",
       "      <th>3</th>\n",
       "      <td>108</td>\n",
       "      <td>338</td>\n",
       "      <td>117</td>\n",
       "      <td>4</td>\n",
       "      <td>3.5</td>\n",
       "      <td>4.5</td>\n",
       "      <td>9.46</td>\n",
       "      <td>1</td>\n",
       "    </tr>\n",
       "    <tr>\n",
       "      <th>4</th>\n",
       "      <td>327</td>\n",
       "      <td>299</td>\n",
       "      <td>100</td>\n",
       "      <td>3</td>\n",
       "      <td>2.0</td>\n",
       "      <td>2.0</td>\n",
       "      <td>8.02</td>\n",
       "      <td>0</td>\n",
       "    </tr>\n",
       "  </tbody>\n",
       "</table>\n",
       "</div>"
      ],
      "text/plain": [
       "   Serial No.  GRE Score  TOEFL Score  University Rating  SOP  LOR   CGPA  \\\n",
       "0         117        299          102                  3  4.0   3.5  8.62   \n",
       "1          49        321          110                  3  3.5   5.0  8.85   \n",
       "2          94        301           97                  2  3.0   3.0  7.88   \n",
       "3         108        338          117                  4  3.5   4.5  9.46   \n",
       "4         327        299          100                  3  2.0   2.0  8.02   \n",
       "\n",
       "   Research  \n",
       "0         0  \n",
       "1         1  \n",
       "2         1  \n",
       "3         1  \n",
       "4         0  "
      ]
     },
     "execution_count": 3,
     "metadata": {},
     "output_type": "execute_result"
    }
   ],
   "source": [
    "# Se cargan los datos de prueba\n",
    "\n",
    "df_recent = pd.read_csv('data/university_admission_test.csv', sep=',', encoding = 'utf-8')\n",
    "print(df_recent.shape)\n",
    "df_recent.head(5)"
   ]
  },
  {
   "cell_type": "code",
   "execution_count": 83,
   "metadata": {},
   "outputs": [
    {
     "data": {
      "text/plain": [
       "15"
      ]
     },
     "execution_count": 83,
     "metadata": {},
     "output_type": "execute_result"
    }
   ],
   "source": [
    "# Analizar la duplicidad de los datos\n",
    "\n",
    "df_recent.duplicated().sum()"
   ]
  },
  {
   "cell_type": "code",
   "execution_count": 84,
   "metadata": {},
   "outputs": [
    {
     "data": {
      "text/plain": [
       "Serial No.           0\n",
       "GRE Score            0\n",
       "TOEFL Score          0\n",
       "University Rating    0\n",
       "SOP                  0\n",
       "LOR                  0\n",
       "CGPA                 0\n",
       "Research             0\n",
       "dtype: int64"
      ]
     },
     "execution_count": 84,
     "metadata": {},
     "output_type": "execute_result"
    }
   ],
   "source": [
    "# Analizar la completitud de los datos\n",
    "\n",
    "df_recent.isna().sum()"
   ]
  },
  {
   "cell_type": "markdown",
   "metadata": {},
   "source": [
    "# Identificación de variables a utlizar"
   ]
  },
  {
   "cell_type": "code",
   "execution_count": 33,
   "metadata": {
    "scrolled": true
   },
   "outputs": [
    {
     "data": {
      "text/html": [
       "<div>\n",
       "<style scoped>\n",
       "    .dataframe tbody tr th:only-of-type {\n",
       "        vertical-align: middle;\n",
       "    }\n",
       "\n",
       "    .dataframe tbody tr th {\n",
       "        vertical-align: top;\n",
       "    }\n",
       "\n",
       "    .dataframe thead th {\n",
       "        text-align: right;\n",
       "    }\n",
       "</style>\n",
       "<table border=\"1\" class=\"dataframe\">\n",
       "  <thead>\n",
       "    <tr style=\"text-align: right;\">\n",
       "      <th></th>\n",
       "      <th>GRE Score</th>\n",
       "      <th>TOEFL Score</th>\n",
       "      <th>University Rating</th>\n",
       "      <th>SOP</th>\n",
       "      <th>LOR</th>\n",
       "      <th>CGPA</th>\n",
       "      <th>Research</th>\n",
       "      <th>Admission Points</th>\n",
       "    </tr>\n",
       "  </thead>\n",
       "  <tbody>\n",
       "    <tr>\n",
       "      <th>count</th>\n",
       "      <td>1486.000000</td>\n",
       "      <td>1486.000000</td>\n",
       "      <td>1486.000000</td>\n",
       "      <td>1486.000000</td>\n",
       "      <td>1486.000000</td>\n",
       "      <td>1486.000000</td>\n",
       "      <td>1486.000000</td>\n",
       "      <td>1486.000000</td>\n",
       "    </tr>\n",
       "    <tr>\n",
       "      <th>mean</th>\n",
       "      <td>307.693809</td>\n",
       "      <td>101.553163</td>\n",
       "      <td>2.880888</td>\n",
       "      <td>2.976770</td>\n",
       "      <td>3.018964</td>\n",
       "      <td>8.347537</td>\n",
       "      <td>0.470390</td>\n",
       "      <td>66.795962</td>\n",
       "    </tr>\n",
       "    <tr>\n",
       "      <th>std</th>\n",
       "      <td>17.894184</td>\n",
       "      <td>12.501348</td>\n",
       "      <td>1.242870</td>\n",
       "      <td>1.236833</td>\n",
       "      <td>1.215772</td>\n",
       "      <td>0.812251</td>\n",
       "      <td>0.499291</td>\n",
       "      <td>19.277668</td>\n",
       "    </tr>\n",
       "    <tr>\n",
       "      <th>min</th>\n",
       "      <td>257.000000</td>\n",
       "      <td>69.000000</td>\n",
       "      <td>1.000000</td>\n",
       "      <td>0.020000</td>\n",
       "      <td>0.000000</td>\n",
       "      <td>6.100000</td>\n",
       "      <td>0.000000</td>\n",
       "      <td>34.000000</td>\n",
       "    </tr>\n",
       "    <tr>\n",
       "      <th>25%</th>\n",
       "      <td>298.000000</td>\n",
       "      <td>96.000000</td>\n",
       "      <td>2.000000</td>\n",
       "      <td>2.000000</td>\n",
       "      <td>2.035000</td>\n",
       "      <td>7.770000</td>\n",
       "      <td>0.000000</td>\n",
       "      <td>48.000000</td>\n",
       "    </tr>\n",
       "    <tr>\n",
       "      <th>50%</th>\n",
       "      <td>309.000000</td>\n",
       "      <td>103.500000</td>\n",
       "      <td>3.000000</td>\n",
       "      <td>3.000000</td>\n",
       "      <td>3.000000</td>\n",
       "      <td>8.340000</td>\n",
       "      <td>0.000000</td>\n",
       "      <td>67.000000</td>\n",
       "    </tr>\n",
       "    <tr>\n",
       "      <th>75%</th>\n",
       "      <td>322.000000</td>\n",
       "      <td>111.000000</td>\n",
       "      <td>4.000000</td>\n",
       "      <td>4.000000</td>\n",
       "      <td>4.000000</td>\n",
       "      <td>9.050000</td>\n",
       "      <td>1.000000</td>\n",
       "      <td>84.000000</td>\n",
       "    </tr>\n",
       "    <tr>\n",
       "      <th>max</th>\n",
       "      <td>340.000000</td>\n",
       "      <td>120.000000</td>\n",
       "      <td>5.000000</td>\n",
       "      <td>5.000000</td>\n",
       "      <td>5.000000</td>\n",
       "      <td>9.920000</td>\n",
       "      <td>1.000000</td>\n",
       "      <td>145.500000</td>\n",
       "    </tr>\n",
       "  </tbody>\n",
       "</table>\n",
       "</div>"
      ],
      "text/plain": [
       "         GRE Score  TOEFL Score  University Rating          SOP         LOR   \\\n",
       "count  1486.000000  1486.000000        1486.000000  1486.000000  1486.000000   \n",
       "mean    307.693809   101.553163           2.880888     2.976770     3.018964   \n",
       "std      17.894184    12.501348           1.242870     1.236833     1.215772   \n",
       "min     257.000000    69.000000           1.000000     0.020000     0.000000   \n",
       "25%     298.000000    96.000000           2.000000     2.000000     2.035000   \n",
       "50%     309.000000   103.500000           3.000000     3.000000     3.000000   \n",
       "75%     322.000000   111.000000           4.000000     4.000000     4.000000   \n",
       "max     340.000000   120.000000           5.000000     5.000000     5.000000   \n",
       "\n",
       "              CGPA     Research  Admission Points  \n",
       "count  1486.000000  1486.000000       1486.000000  \n",
       "mean      8.347537     0.470390         66.795962  \n",
       "std       0.812251     0.499291         19.277668  \n",
       "min       6.100000     0.000000         34.000000  \n",
       "25%       7.770000     0.000000         48.000000  \n",
       "50%       8.340000     0.000000         67.000000  \n",
       "75%       9.050000     1.000000         84.000000  \n",
       "max       9.920000     1.000000        145.500000  "
      ]
     },
     "execution_count": 33,
     "metadata": {},
     "output_type": "execute_result"
    }
   ],
   "source": [
    "df_num = df_tracks_prep.select_dtypes(['number']).copy()\n",
    "df_num.describe()"
   ]
  },
  {
   "cell_type": "code",
   "execution_count": 34,
   "metadata": {},
   "outputs": [
    {
     "data": {
      "text/plain": [
       "<seaborn.axisgrid.PairGrid at 0x7fc79aca8af0>"
      ]
     },
     "execution_count": 34,
     "metadata": {},
     "output_type": "execute_result"
    },
    {
     "data": {
      "image/png": "[encoded data removed]",
      "text/plain": [
       "<Figure size 1080x216 with 5 Axes>"
      ]
     },
     "metadata": {
      "needs_background": "light"
     },
     "output_type": "display_data"
    },
    {
     "data": {
      "image/png": "[encoded data removed]",
      "text/plain": [
       "<Figure size 432x216 with 2 Axes>"
      ]
     },
     "metadata": {
      "needs_background": "light"
     },
     "output_type": "display_data"
    }
   ],
   "source": [
    "# Diagramas de disperción con respecto a la variable objetivo\n",
    "\n",
    "sns.pairplot(df_tracks_prep, height=3, y_vars = 'Admission Points', x_vars = df_tracks_prep.columns[0:5], kind='scatter')\n",
    "sns.pairplot(df_tracks_prep, height=3, y_vars = 'Admission Points', x_vars = df_tracks_prep.columns[5:7], kind='scatter')"
   ]
  },
  {
   "cell_type": "code",
   "execution_count": 35,
   "metadata": {
    "scrolled": false
   },
   "outputs": [
    {
     "data": {
      "image/png": "[encoded data removed]",
      "text/plain": [
       "<Figure size 1368x1080 with 2 Axes>"
      ]
     },
     "metadata": {
      "needs_background": "light"
     },
     "output_type": "display_data"
    }
   ],
   "source": [
    "# Matriz de correlaciones para ver la relación entre variables\n",
    "\n",
    "f = plt.figure(figsize=(19, 15))\n",
    "plt.matshow(df_num.corr(), fignum=f.number, cmap = 'seismic')\n",
    "plt.xticks(range(df_num.select_dtypes(['number']).shape[1]), df_num.select_dtypes(['number']).columns, fontsize=14, rotation=45)\n",
    "plt.yticks(range(df_num.select_dtypes(['number']).shape[1]), df_num.select_dtypes(['number']).columns, fontsize=14)\n",
    "cb = plt.colorbar()\n",
    "_ = cb.ax.tick_params(labelsize=14)"
   ]
  },
  {
   "cell_type": "markdown",
   "metadata": {},
   "source": [
    "# Preparación de los datos"
   ]
  },
  {
   "cell_type": "code",
   "execution_count": 53,
   "metadata": {},
   "outputs": [],
   "source": [
    "def square(X):\n",
    "    for feature in X.columns:\n",
    "        if feature=='CGPA' or feature=='GRE Score':\n",
    "            X[feature]=np.sqrt(X[feature])\n",
    "    return X\n",
    "\n",
    "def dropNa(X):\n",
    "     return X.dropna()\n",
    "\n",
    "# def dropDup(X):\n",
    "#     return X.drop_duplicates()  \n",
    "\n",
    "def print1(X):\n",
    "    print(X)\n",
    "    return X"
   ]
  },
  {
   "cell_type": "code",
   "execution_count": 136,
   "metadata": {},
   "outputs": [],
   "source": [
    "#Preparación datos de entrenamiento\n",
    "selected_cols = ['University Rating','CGPA','Research','GRE Score','Admission Points']\n",
    "\n",
    "t=[ (\"selector\", 'passthrough',selected_cols)]\n",
    "\n",
    "pre_all = [('na', FunctionTransformer(dropNa)), #Se eliminan las filas con puntaje de admisión nulo\n",
    "           ('initial',ColumnTransformer(transformers = t)), #seleccionar unicamente las columnas que se quieren usar\n",
    "           ('scaler', MinMaxScaler())] #Escalar los datos de -1 a 1"
   ]
  },
  {
   "cell_type": "code",
   "execution_count": 137,
   "metadata": {},
   "outputs": [],
   "source": [
    "##Se crea el pipeline de preparación\n",
    "pipeline1 = Pipeline(pre_all)"
   ]
  },
  {
   "cell_type": "code",
   "execution_count": 138,
   "metadata": {},
   "outputs": [
    {
     "data": {
      "text/html": [
       "<div>\n",
       "<style scoped>\n",
       "    .dataframe tbody tr th:only-of-type {\n",
       "        vertical-align: middle;\n",
       "    }\n",
       "\n",
       "    .dataframe tbody tr th {\n",
       "        vertical-align: top;\n",
       "    }\n",
       "\n",
       "    .dataframe thead th {\n",
       "        text-align: right;\n",
       "    }\n",
       "</style>\n",
       "<table border=\"1\" class=\"dataframe\">\n",
       "  <thead>\n",
       "    <tr style=\"text-align: right;\">\n",
       "      <th></th>\n",
       "      <th>University Rating</th>\n",
       "      <th>CGPA</th>\n",
       "      <th>Research</th>\n",
       "      <th>GRE Score</th>\n",
       "      <th>Admission Points</th>\n",
       "    </tr>\n",
       "  </thead>\n",
       "  <tbody>\n",
       "    <tr>\n",
       "      <th>0</th>\n",
       "      <td>0.75</td>\n",
       "      <td>0.727749</td>\n",
       "      <td>1.0</td>\n",
       "      <td>0.843373</td>\n",
       "      <td>0.452646</td>\n",
       "    </tr>\n",
       "    <tr>\n",
       "      <th>1</th>\n",
       "      <td>0.00</td>\n",
       "      <td>0.421466</td>\n",
       "      <td>0.0</td>\n",
       "      <td>0.530120</td>\n",
       "      <td>0.099372</td>\n",
       "    </tr>\n",
       "    <tr>\n",
       "      <th>2</th>\n",
       "      <td>0.00</td>\n",
       "      <td>0.468586</td>\n",
       "      <td>0.0</td>\n",
       "      <td>0.481928</td>\n",
       "      <td>0.120359</td>\n",
       "    </tr>\n",
       "    <tr>\n",
       "      <th>3</th>\n",
       "      <td>0.50</td>\n",
       "      <td>0.628272</td>\n",
       "      <td>0.0</td>\n",
       "      <td>0.554217</td>\n",
       "      <td>0.251121</td>\n",
       "    </tr>\n",
       "    <tr>\n",
       "      <th>4</th>\n",
       "      <td>0.25</td>\n",
       "      <td>0.701571</td>\n",
       "      <td>1.0</td>\n",
       "      <td>0.759036</td>\n",
       "      <td>0.349776</td>\n",
       "    </tr>\n",
       "    <tr>\n",
       "      <th>...</th>\n",
       "      <td>...</td>\n",
       "      <td>...</td>\n",
       "      <td>...</td>\n",
       "      <td>...</td>\n",
       "      <td>...</td>\n",
       "    </tr>\n",
       "    <tr>\n",
       "      <th>1499</th>\n",
       "      <td>0.25</td>\n",
       "      <td>0.350785</td>\n",
       "      <td>0.0</td>\n",
       "      <td>0.493976</td>\n",
       "      <td>0.121076</td>\n",
       "    </tr>\n",
       "    <tr>\n",
       "      <th>1500</th>\n",
       "      <td>0.00</td>\n",
       "      <td>0.500000</td>\n",
       "      <td>1.0</td>\n",
       "      <td>0.662651</td>\n",
       "      <td>0.161435</td>\n",
       "    </tr>\n",
       "    <tr>\n",
       "      <th>1501</th>\n",
       "      <td>0.00</td>\n",
       "      <td>0.138743</td>\n",
       "      <td>0.0</td>\n",
       "      <td>0.421687</td>\n",
       "      <td>0.121435</td>\n",
       "    </tr>\n",
       "    <tr>\n",
       "      <th>1502</th>\n",
       "      <td>0.25</td>\n",
       "      <td>0.594241</td>\n",
       "      <td>0.0</td>\n",
       "      <td>0.662651</td>\n",
       "      <td>0.269058</td>\n",
       "    </tr>\n",
       "    <tr>\n",
       "      <th>1503</th>\n",
       "      <td>0.25</td>\n",
       "      <td>0.560209</td>\n",
       "      <td>0.0</td>\n",
       "      <td>0.638554</td>\n",
       "      <td>0.340807</td>\n",
       "    </tr>\n",
       "  </tbody>\n",
       "</table>\n",
       "<p>1504 rows × 5 columns</p>\n",
       "</div>"
      ],
      "text/plain": [
       "      University Rating      CGPA  Research  GRE Score  Admission Points\n",
       "0                  0.75  0.727749       1.0   0.843373          0.452646\n",
       "1                  0.00  0.421466       0.0   0.530120          0.099372\n",
       "2                  0.00  0.468586       0.0   0.481928          0.120359\n",
       "3                  0.50  0.628272       0.0   0.554217          0.251121\n",
       "4                  0.25  0.701571       1.0   0.759036          0.349776\n",
       "...                 ...       ...       ...        ...               ...\n",
       "1499               0.25  0.350785       0.0   0.493976          0.121076\n",
       "1500               0.00  0.500000       1.0   0.662651          0.161435\n",
       "1501               0.00  0.138743       0.0   0.421687          0.121435\n",
       "1502               0.25  0.594241       0.0   0.662651          0.269058\n",
       "1503               0.25  0.560209       0.0   0.638554          0.340807\n",
       "\n",
       "[1504 rows x 5 columns]"
      ]
     },
     "execution_count": 138,
     "metadata": {},
     "output_type": "execute_result"
    }
   ],
   "source": [
    "# Ejecutamos la preparación y volvemos a poner los datos en un dataframe\n",
    "d = pipeline1.fit_transform(df_tracks)\n",
    "d = pd.DataFrame(data=d,columns=['University Rating','CGPA','Research','GRE Score', 'Admission Points'])\n",
    "d"
   ]
  },
  {
   "cell_type": "code",
   "execution_count": 170,
   "metadata": {},
   "outputs": [],
   "source": [
    "# Preparación datos para entrenar\n",
    "\n",
    "selected_cols = ['University Rating','CGPA','Research']\n",
    "\n",
    "t=[ (\"selector\", 'passthrough',selected_cols)]\n",
    "\n",
    "pre = [('square', FunctionTransformer(square)), #Sacamos la raíz cuadrada de la columna CGPA para que su relación se ajuste más a una recta\n",
    "       ('initial',ColumnTransformer(transformers = t)), #seleccionar unicamente las columnas que se quieren usar\n",
    "       ('scaler', MinMaxScaler()), #Escalar los datos de -1 a 1\n",
    "       ('imputer', SimpleImputer(missing_values=np.nan, strategy='median'))] #Reemplazamos los valores nulos por la mediana de la columna.\n"
   ]
  },
  {
   "cell_type": "markdown",
   "metadata": {},
   "source": [
    "# Modelo"
   ]
  },
  {
   "cell_type": "code",
   "execution_count": 109,
   "metadata": {},
   "outputs": [],
   "source": [
    "# Se genera el modelo\n",
    "\n",
    "model = [('model', LinearRegression())]"
   ]
  },
  {
   "cell_type": "code",
   "execution_count": 110,
   "metadata": {},
   "outputs": [],
   "source": [
    "#Se crea el pipeline de entrenamiento\n",
    "pipeline = Pipeline(pre+model)"
   ]
  },
  {
   "cell_type": "code",
   "execution_count": 111,
   "metadata": {},
   "outputs": [
    {
     "name": "stderr",
     "output_type": "stream",
     "text": [
      "/home/valentina/anaconda3/lib/python3.7/site-packages/ipykernel_launcher.py:4: SettingWithCopyWarning: \n",
      "A value is trying to be set on a copy of a slice from a DataFrame.\n",
      "Try using .loc[row_indexer,col_indexer] = value instead\n",
      "\n",
      "See the caveats in the documentation: https://pandas.pydata.org/pandas-docs/stable/user_guide/indexing.html#returning-a-view-versus-a-copy\n",
      "  after removing the cwd from sys.path.\n"
     ]
    }
   ],
   "source": [
    "# Se extrae las variables explicativas y objetivo para entrenar\n",
    "\n",
    "X = d[selected_cols]\n",
    "y = d['Admission Points']\n",
    "\n",
    "# Se entrena el modelo\n",
    "pipeline = pipeline.fit(X,y)"
   ]
  },
  {
   "cell_type": "code",
   "execution_count": 112,
   "metadata": {},
   "outputs": [
    {
     "data": {
      "image/png": "[encoded data removed]",
      "text/plain": [
       "<Figure size 864x288 with 3 Axes>"
      ]
     },
     "metadata": {
      "needs_background": "light"
     },
     "output_type": "display_data"
    }
   ],
   "source": [
    "# Se visualiza la regresión lineal en cada dimensión\n",
    "\n",
    "f, axs = plt.subplots(1, len(selected_cols), sharey=True, figsize = (12,4))\n",
    "\n",
    "for i in range(len(selected_cols)):\n",
    "\n",
    "    pos_col = i\n",
    "    col = selected_cols[pos_col]\n",
    "\n",
    "    # Variable x\n",
    "    x = X[col]\n",
    "    # Pendiente\n",
    "    m = pipeline['model'].coef_[pos_col]\n",
    "    # Interceto\n",
    "    b = pipeline['model'].intercept_\n",
    "\n",
    "    axs[i].plot(x, y, 'o', alpha = 0.1)\n",
    "    axs[i].plot(x, x*m + b)\n",
    "    axs[i].set_title(col)"
   ]
  },
  {
   "cell_type": "code",
   "execution_count": 139,
   "metadata": {},
   "outputs": [
    {
     "data": {
      "text/plain": [
       "['modelo.joblib']"
      ]
     },
     "execution_count": 139,
     "metadata": {},
     "output_type": "execute_result"
    }
   ],
   "source": [
    "# Usamos la lbreria joblib\n",
    "filename = 'modelo.joblib'\n",
    "# Se guarda\n",
    "dump(pipeline, filename) "
   ]
  },
  {
   "cell_type": "code",
   "execution_count": 114,
   "metadata": {},
   "outputs": [
    {
     "data": {
      "text/plain": [
       "Pipeline(steps=[('square',\n",
       "                 FunctionTransformer(func=<function square at 0x7f8f43ee2ae8>)),\n",
       "                ('initial',\n",
       "                 ColumnTransformer(transformers=[('selector', 'passthrough',\n",
       "                                                  ['University Rating', 'CGPA',\n",
       "                                                   'Research'])])),\n",
       "                ('scaler', MinMaxScaler()),\n",
       "                ('imputer', SimpleImputer(strategy='median')),\n",
       "                ('model', LinearRegression())])"
      ]
     },
     "execution_count": 114,
     "metadata": {},
     "output_type": "execute_result"
    }
   ],
   "source": [
    "# Se lee\n",
    "p2 = load(filename)\n",
    "p2"
   ]
  },
  {
   "cell_type": "code",
   "execution_count": 124,
   "metadata": {},
   "outputs": [],
   "source": [
    "# Clasificamos los datos recientes\n",
    "df_recent1=df_recent\n",
    "df_recent1['Admission Points'] = p2.predict(df_recent1)"
   ]
  },
  {
   "cell_type": "code",
   "execution_count": 134,
   "metadata": {},
   "outputs": [
    {
     "data": {
      "text/plain": [
       "(array([18.,  3., 41., 10., 21., 25.,  8., 26.,  3., 20.]),\n",
       " array([0.81239837, 0.93810731, 1.06381626, 1.1895252 , 1.31523415,\n",
       "        1.44094309, 1.56665204, 1.69236098, 1.81806993, 1.94377887,\n",
       "        2.06948782]),\n",
       " <BarContainer object of 10 artists>)"
      ]
     },
     "execution_count": 134,
     "metadata": {},
     "output_type": "execute_result"
    },
    {
     "data": {
      "image/png": "[encoded data removed]",
      "text/plain": [
       "<Figure size 432x288 with 1 Axes>"
      ]
     },
     "metadata": {
      "needs_background": "light"
     },
     "output_type": "display_data"
    }
   ],
   "source": [
    "#Visualizamos la predicción de puntajes\n",
    "\n",
    "#sns.histplot(df_recent['Admission Points'])\n",
    "plt.hist(df_recent['Admission Points'])"
   ]
  },
  {
   "cell_type": "code",
   "execution_count": 135,
   "metadata": {},
   "outputs": [
    {
     "data": {
      "text/html": [
       "<div>\n",
       "<style scoped>\n",
       "    .dataframe tbody tr th:only-of-type {\n",
       "        vertical-align: middle;\n",
       "    }\n",
       "\n",
       "    .dataframe tbody tr th {\n",
       "        vertical-align: top;\n",
       "    }\n",
       "\n",
       "    .dataframe thead th {\n",
       "        text-align: right;\n",
       "    }\n",
       "</style>\n",
       "<table border=\"1\" class=\"dataframe\">\n",
       "  <thead>\n",
       "    <tr style=\"text-align: right;\">\n",
       "      <th></th>\n",
       "      <th>columns</th>\n",
       "      <th>coef</th>\n",
       "    </tr>\n",
       "  </thead>\n",
       "  <tbody>\n",
       "    <tr>\n",
       "      <th>0</th>\n",
       "      <td>University Rating</td>\n",
       "      <td>0.261297</td>\n",
       "    </tr>\n",
       "    <tr>\n",
       "      <th>1</th>\n",
       "      <td>CGPA</td>\n",
       "      <td>0.222895</td>\n",
       "    </tr>\n",
       "    <tr>\n",
       "      <th>2</th>\n",
       "      <td>Research</td>\n",
       "      <td>0.110978</td>\n",
       "    </tr>\n",
       "  </tbody>\n",
       "</table>\n",
       "</div>"
      ],
      "text/plain": [
       "             columns      coef\n",
       "0  University Rating  0.261297\n",
       "1               CGPA  0.222895\n",
       "2           Research  0.110978"
      ]
     },
     "execution_count": 135,
     "metadata": {},
     "output_type": "execute_result"
    }
   ],
   "source": [
    "#Vemos la importancia de los features con los que entrenamos\n",
    "pd.DataFrame({'columns':selected_cols, 'coef':pipeline['model'].coef_})"
   ]
  },
  {
   "cell_type": "code",
   "execution_count": 120,
   "metadata": {},
   "outputs": [],
   "source": [
    "# Extraemos las variables explicativas y objetivo para entrenar\n",
    "\n",
    "X = d.drop('Admission Points', axis = 1)\n",
    "y = d['Admission Points']\n",
    "\n",
    "pipeline = pipeline.fit(X,y)"
   ]
  },
  {
   "cell_type": "code",
   "execution_count": 121,
   "metadata": {},
   "outputs": [
    {
     "data": {
      "text/html": [
       "<div>\n",
       "<style scoped>\n",
       "    .dataframe tbody tr th:only-of-type {\n",
       "        vertical-align: middle;\n",
       "    }\n",
       "\n",
       "    .dataframe tbody tr th {\n",
       "        vertical-align: top;\n",
       "    }\n",
       "\n",
       "    .dataframe thead th {\n",
       "        text-align: right;\n",
       "    }\n",
       "</style>\n",
       "<table border=\"1\" class=\"dataframe\">\n",
       "  <thead>\n",
       "    <tr style=\"text-align: right;\">\n",
       "      <th></th>\n",
       "      <th>columns</th>\n",
       "      <th>coef</th>\n",
       "    </tr>\n",
       "  </thead>\n",
       "  <tbody>\n",
       "    <tr>\n",
       "      <th>0</th>\n",
       "      <td>University Rating</td>\n",
       "      <td>0.261297</td>\n",
       "    </tr>\n",
       "    <tr>\n",
       "      <th>1</th>\n",
       "      <td>CGPA</td>\n",
       "      <td>0.222895</td>\n",
       "    </tr>\n",
       "    <tr>\n",
       "      <th>2</th>\n",
       "      <td>Research</td>\n",
       "      <td>0.110978</td>\n",
       "    </tr>\n",
       "  </tbody>\n",
       "</table>\n",
       "</div>"
      ],
      "text/plain": [
       "             columns      coef\n",
       "0  University Rating  0.261297\n",
       "1               CGPA  0.222895\n",
       "2           Research  0.110978"
      ]
     },
     "execution_count": 121,
     "metadata": {},
     "output_type": "execute_result"
    }
   ],
   "source": [
    "# Imprimir los coeficientes nuevamente\n",
    "\n",
    "pd.DataFrame({'columns':selected_cols, 'coef':pipeline['model'].coef_})"
   ]
  },
  {
   "cell_type": "markdown",
   "metadata": {},
   "source": [
    "# Evaluación cuantitativa"
   ]
  },
  {
   "cell_type": "code",
   "execution_count": 122,
   "metadata": {},
   "outputs": [
    {
     "data": {
      "text/plain": [
       "0.6466565504809838"
      ]
     },
     "execution_count": 122,
     "metadata": {},
     "output_type": "execute_result"
    }
   ],
   "source": [
    "# R²\n",
    "p2.score(X,y)"
   ]
  },
  {
   "cell_type": "code",
   "execution_count": 123,
   "metadata": {},
   "outputs": [
    {
     "data": {
      "text/plain": [
       "0.10845831355644821"
      ]
     },
     "execution_count": 123,
     "metadata": {},
     "output_type": "execute_result"
    }
   ],
   "source": [
    "#RMSE\n",
    "\n",
    "y_true = y\n",
    "y_predicted = p2.predict(X)\n",
    "\n",
    "# Note que hay que sacarle la raiz al valor\n",
    "np.sqrt(mse(y_true, y_predicted))"
   ]
  },
  {
   "cell_type": "markdown",
   "metadata": {},
   "source": [
    "**¿Su equipo recomienda instalar el modelo de estimación en producción o es mejor continuar usando expertos para la tarea?**\n",
    "\n",
    "El modelo de estimación de nuestro equipo muestra unas metricas buenas, sin embargo aun creemos que no son lo suficientemente adecuados para ser puestos en producción. Una vez las metricas alcancen R^2 > 0.8 y RSME < 0.06, consideramos que el modelo es suficiente para el uso en producción. Por lo tanto, por el momento se recomienta continuar usando expertos para la tarea y seguir ajustando el modelo"
   ]
  },
  {
   "cell_type": "markdown",
   "metadata": {},
   "source": [
    "**En caso de no recomendar el uso de un modelo de regresión ¿Qué otras posibilidades tiene la empresa? ¿Hacia dónde debe seguir con esta tarea?**\n",
    "\n",
    "En este caso se podría recomendar en vez de intentar predecir el puntaje de admisión, acordar un puntaje suficientemente bueno para decidir si un candidato es elegible y convertir esto a una tarea de aprendizaje de clasificación. Este tipo de aprendeizaje consideramos que resuelve las necesidades presentadas."
   ]
  },
  {
   "cell_type": "markdown",
   "metadata": {},
   "source": [
    "# Evaluación cualitativa"
   ]
  },
  {
   "cell_type": "markdown",
   "metadata": {},
   "source": [
    "## Validación de supuestos\n",
    "**¿Qué obtuvieron con el ejercicio de regresión?**\n",
    "\n",
    "Con el modelo de regresión obtuvimos un sistema cuantitativo para estimar el puntaje de admision de un candidato."
   ]
  },
  {
   "cell_type": "markdown",
   "metadata": {},
   "source": [
    "## Interpretación de los coeficientes\n",
    "**¿Cuáles son las variables más influyentes y que tan confiables son los resultados?**\n",
    "\n",
    "Nuestros resultados indican que las variables mas influyentes, en orden de influencia son las siguientes:\n",
    "    - University Rating\n",
    "    - sqrt(CGPA)\n",
    "    - Research\n",
    "    \n",
    "Los resultados son bastante confiables segun las metricas obtenidas del modelo. Sin embargo, como ya fue expresado previamente, no consideramos que sean aun lo suficientemente confiables para ser usadas en un ambiente de producción."
   ]
  },
  {
   "cell_type": "markdown",
   "metadata": {},
   "source": [
    "# Preparación datos de prueba"
   ]
  },
  {
   "cell_type": "code",
   "execution_count": 192,
   "metadata": {},
   "outputs": [
    {
     "data": {
      "text/html": [
       "<div>\n",
       "<style scoped>\n",
       "    .dataframe tbody tr th:only-of-type {\n",
       "        vertical-align: middle;\n",
       "    }\n",
       "\n",
       "    .dataframe tbody tr th {\n",
       "        vertical-align: top;\n",
       "    }\n",
       "\n",
       "    .dataframe thead th {\n",
       "        text-align: right;\n",
       "    }\n",
       "</style>\n",
       "<table border=\"1\" class=\"dataframe\">\n",
       "  <thead>\n",
       "    <tr style=\"text-align: right;\">\n",
       "      <th></th>\n",
       "      <th>Research</th>\n",
       "    </tr>\n",
       "  </thead>\n",
       "  <tbody>\n",
       "    <tr>\n",
       "      <th>0</th>\n",
       "      <td>0</td>\n",
       "    </tr>\n",
       "    <tr>\n",
       "      <th>1</th>\n",
       "      <td>1</td>\n",
       "    </tr>\n",
       "    <tr>\n",
       "      <th>2</th>\n",
       "      <td>1</td>\n",
       "    </tr>\n",
       "    <tr>\n",
       "      <th>3</th>\n",
       "      <td>1</td>\n",
       "    </tr>\n",
       "    <tr>\n",
       "      <th>4</th>\n",
       "      <td>0</td>\n",
       "    </tr>\n",
       "    <tr>\n",
       "      <th>...</th>\n",
       "      <td>...</td>\n",
       "    </tr>\n",
       "    <tr>\n",
       "      <th>170</th>\n",
       "      <td>1</td>\n",
       "    </tr>\n",
       "    <tr>\n",
       "      <th>171</th>\n",
       "      <td>0</td>\n",
       "    </tr>\n",
       "    <tr>\n",
       "      <th>172</th>\n",
       "      <td>0</td>\n",
       "    </tr>\n",
       "    <tr>\n",
       "      <th>173</th>\n",
       "      <td>0</td>\n",
       "    </tr>\n",
       "    <tr>\n",
       "      <th>174</th>\n",
       "      <td>1</td>\n",
       "    </tr>\n",
       "  </tbody>\n",
       "</table>\n",
       "<p>175 rows × 1 columns</p>\n",
       "</div>"
      ],
      "text/plain": [
       "     Research\n",
       "0           0\n",
       "1           1\n",
       "2           1\n",
       "3           1\n",
       "4           0\n",
       "..        ...\n",
       "170         1\n",
       "171         0\n",
       "172         0\n",
       "173         0\n",
       "174         1\n",
       "\n",
       "[175 rows x 1 columns]"
      ]
     },
     "execution_count": 192,
     "metadata": {},
     "output_type": "execute_result"
    }
   ],
   "source": [
    "X1 = df_recent[['Research']]\n",
    "X1.to_csv(\"data/pruebas/prueba1.csv\")\n",
    "X1.to_json(\"data/pruebas/prueba1.json\")\n",
    "X1"
   ]
  },
  {
   "cell_type": "code",
   "execution_count": 176,
   "metadata": {},
   "outputs": [
    {
     "name": "stdout",
     "output_type": "stream",
     "text": [
      "columns are missing: {'CGPA', 'University Rating'}\n"
     ]
    }
   ],
   "source": [
    "\"Error\"\n",
    "try:\n",
    "    p2.predict(X1)\n",
    "except Exception as err:\n",
    "    print(err)"
   ]
  },
  {
   "cell_type": "code",
   "execution_count": 193,
   "metadata": {},
   "outputs": [
    {
     "data": {
      "text/html": [
       "<div>\n",
       "<style scoped>\n",
       "    .dataframe tbody tr th:only-of-type {\n",
       "        vertical-align: middle;\n",
       "    }\n",
       "\n",
       "    .dataframe tbody tr th {\n",
       "        vertical-align: top;\n",
       "    }\n",
       "\n",
       "    .dataframe thead th {\n",
       "        text-align: right;\n",
       "    }\n",
       "</style>\n",
       "<table border=\"1\" class=\"dataframe\">\n",
       "  <thead>\n",
       "    <tr style=\"text-align: right;\">\n",
       "      <th></th>\n",
       "      <th>University Rating</th>\n",
       "      <th>CGPA</th>\n",
       "      <th>Research</th>\n",
       "    </tr>\n",
       "  </thead>\n",
       "  <tbody>\n",
       "    <tr>\n",
       "      <th>0</th>\n",
       "      <td>1.0</td>\n",
       "      <td>1.0</td>\n",
       "      <td>1.0</td>\n",
       "    </tr>\n",
       "    <tr>\n",
       "      <th>1</th>\n",
       "      <td>1.0</td>\n",
       "      <td>1.0</td>\n",
       "      <td>1.0</td>\n",
       "    </tr>\n",
       "    <tr>\n",
       "      <th>2</th>\n",
       "      <td>1.0</td>\n",
       "      <td>1.0</td>\n",
       "      <td>1.0</td>\n",
       "    </tr>\n",
       "    <tr>\n",
       "      <th>3</th>\n",
       "      <td>1.0</td>\n",
       "      <td>1.0</td>\n",
       "      <td>1.0</td>\n",
       "    </tr>\n",
       "    <tr>\n",
       "      <th>4</th>\n",
       "      <td>1.0</td>\n",
       "      <td>1.0</td>\n",
       "      <td>1.0</td>\n",
       "    </tr>\n",
       "    <tr>\n",
       "      <th>...</th>\n",
       "      <td>...</td>\n",
       "      <td>...</td>\n",
       "      <td>...</td>\n",
       "    </tr>\n",
       "    <tr>\n",
       "      <th>170</th>\n",
       "      <td>1.0</td>\n",
       "      <td>1.0</td>\n",
       "      <td>1.0</td>\n",
       "    </tr>\n",
       "    <tr>\n",
       "      <th>171</th>\n",
       "      <td>1.0</td>\n",
       "      <td>1.0</td>\n",
       "      <td>1.0</td>\n",
       "    </tr>\n",
       "    <tr>\n",
       "      <th>172</th>\n",
       "      <td>1.0</td>\n",
       "      <td>1.0</td>\n",
       "      <td>1.0</td>\n",
       "    </tr>\n",
       "    <tr>\n",
       "      <th>173</th>\n",
       "      <td>1.0</td>\n",
       "      <td>1.0</td>\n",
       "      <td>1.0</td>\n",
       "    </tr>\n",
       "    <tr>\n",
       "      <th>174</th>\n",
       "      <td>1.0</td>\n",
       "      <td>1.0</td>\n",
       "      <td>1.0</td>\n",
       "    </tr>\n",
       "  </tbody>\n",
       "</table>\n",
       "<p>175 rows × 3 columns</p>\n",
       "</div>"
      ],
      "text/plain": [
       "     University Rating  CGPA  Research\n",
       "0                  1.0   1.0       1.0\n",
       "1                  1.0   1.0       1.0\n",
       "2                  1.0   1.0       1.0\n",
       "3                  1.0   1.0       1.0\n",
       "4                  1.0   1.0       1.0\n",
       "..                 ...   ...       ...\n",
       "170                1.0   1.0       1.0\n",
       "171                1.0   1.0       1.0\n",
       "172                1.0   1.0       1.0\n",
       "173                1.0   1.0       1.0\n",
       "174                1.0   1.0       1.0\n",
       "\n",
       "[175 rows x 3 columns]"
      ]
     },
     "execution_count": 193,
     "metadata": {},
     "output_type": "execute_result"
    }
   ],
   "source": [
    "X2 = pd.DataFrame(np.ones((len(X1),3)),columns=selected_cols)\n",
    "X2.to_csv(\"data/pruebas/prueba2.csv\")\n",
    "X2.to_json(\"data/pruebas/prueba2.json\")\n",
    "X2"
   ]
  },
  {
   "cell_type": "code",
   "execution_count": 181,
   "metadata": {},
   "outputs": [
    {
     "name": "stdout",
     "output_type": "stream",
     "text": [
      "[0.54693578 0.54693578 0.54693578 0.54693578 0.54693578 0.54693578\n",
      " 0.54693578 0.54693578 0.54693578 0.54693578 0.54693578 0.54693578\n",
      " 0.54693578 0.54693578 0.54693578 0.54693578 0.54693578 0.54693578\n",
      " 0.54693578 0.54693578 0.54693578 0.54693578 0.54693578 0.54693578\n",
      " 0.54693578 0.54693578 0.54693578 0.54693578 0.54693578 0.54693578\n",
      " 0.54693578 0.54693578 0.54693578 0.54693578 0.54693578 0.54693578\n",
      " 0.54693578 0.54693578 0.54693578 0.54693578 0.54693578 0.54693578\n",
      " 0.54693578 0.54693578 0.54693578 0.54693578 0.54693578 0.54693578\n",
      " 0.54693578 0.54693578 0.54693578 0.54693578 0.54693578 0.54693578\n",
      " 0.54693578 0.54693578 0.54693578 0.54693578 0.54693578 0.54693578\n",
      " 0.54693578 0.54693578 0.54693578 0.54693578 0.54693578 0.54693578\n",
      " 0.54693578 0.54693578 0.54693578 0.54693578 0.54693578 0.54693578\n",
      " 0.54693578 0.54693578 0.54693578 0.54693578 0.54693578 0.54693578\n",
      " 0.54693578 0.54693578 0.54693578 0.54693578 0.54693578 0.54693578\n",
      " 0.54693578 0.54693578 0.54693578 0.54693578 0.54693578 0.54693578\n",
      " 0.54693578 0.54693578 0.54693578 0.54693578 0.54693578 0.54693578\n",
      " 0.54693578 0.54693578 0.54693578 0.54693578 0.54693578 0.54693578\n",
      " 0.54693578 0.54693578 0.54693578 0.54693578 0.54693578 0.54693578\n",
      " 0.54693578 0.54693578 0.54693578 0.54693578 0.54693578 0.54693578\n",
      " 0.54693578 0.54693578 0.54693578 0.54693578 0.54693578 0.54693578\n",
      " 0.54693578 0.54693578 0.54693578 0.54693578 0.54693578 0.54693578\n",
      " 0.54693578 0.54693578 0.54693578 0.54693578 0.54693578 0.54693578\n",
      " 0.54693578 0.54693578 0.54693578 0.54693578 0.54693578 0.54693578\n",
      " 0.54693578 0.54693578 0.54693578 0.54693578 0.54693578 0.54693578\n",
      " 0.54693578 0.54693578 0.54693578 0.54693578 0.54693578 0.54693578\n",
      " 0.54693578 0.54693578 0.54693578 0.54693578 0.54693578 0.54693578\n",
      " 0.54693578 0.54693578 0.54693578 0.54693578 0.54693578 0.54693578\n",
      " 0.54693578 0.54693578 0.54693578 0.54693578 0.54693578 0.54693578\n",
      " 0.54693578 0.54693578 0.54693578 0.54693578 0.54693578 0.54693578\n",
      " 0.54693578]\n"
     ]
    }
   ],
   "source": [
    "\"Resultados sin sentido\"\n",
    "try:\n",
    "    print(p2.predict(X2))\n",
    "except Exception as err:\n",
    "    print(err)"
   ]
  },
  {
   "cell_type": "code",
   "execution_count": 204,
   "metadata": {},
   "outputs": [
    {
     "data": {
      "text/html": [
       "<div>\n",
       "<style scoped>\n",
       "    .dataframe tbody tr th:only-of-type {\n",
       "        vertical-align: middle;\n",
       "    }\n",
       "\n",
       "    .dataframe tbody tr th {\n",
       "        vertical-align: top;\n",
       "    }\n",
       "\n",
       "    .dataframe thead th {\n",
       "        text-align: right;\n",
       "    }\n",
       "</style>\n",
       "<table border=\"1\" class=\"dataframe\">\n",
       "  <thead>\n",
       "    <tr style=\"text-align: right;\">\n",
       "      <th></th>\n",
       "      <th>University Rating</th>\n",
       "      <th>CGPA</th>\n",
       "      <th>Research</th>\n",
       "    </tr>\n",
       "  </thead>\n",
       "  <tbody>\n",
       "    <tr>\n",
       "      <th>0</th>\n",
       "      <td>NaN</td>\n",
       "      <td>NaN</td>\n",
       "      <td>NaN</td>\n",
       "    </tr>\n",
       "    <tr>\n",
       "      <th>1</th>\n",
       "      <td>NaN</td>\n",
       "      <td>NaN</td>\n",
       "      <td>NaN</td>\n",
       "    </tr>\n",
       "    <tr>\n",
       "      <th>2</th>\n",
       "      <td>NaN</td>\n",
       "      <td>NaN</td>\n",
       "      <td>NaN</td>\n",
       "    </tr>\n",
       "    <tr>\n",
       "      <th>3</th>\n",
       "      <td>NaN</td>\n",
       "      <td>NaN</td>\n",
       "      <td>NaN</td>\n",
       "    </tr>\n",
       "    <tr>\n",
       "      <th>4</th>\n",
       "      <td>NaN</td>\n",
       "      <td>NaN</td>\n",
       "      <td>NaN</td>\n",
       "    </tr>\n",
       "    <tr>\n",
       "      <th>...</th>\n",
       "      <td>...</td>\n",
       "      <td>...</td>\n",
       "      <td>...</td>\n",
       "    </tr>\n",
       "    <tr>\n",
       "      <th>170</th>\n",
       "      <td>NaN</td>\n",
       "      <td>NaN</td>\n",
       "      <td>NaN</td>\n",
       "    </tr>\n",
       "    <tr>\n",
       "      <th>171</th>\n",
       "      <td>NaN</td>\n",
       "      <td>NaN</td>\n",
       "      <td>NaN</td>\n",
       "    </tr>\n",
       "    <tr>\n",
       "      <th>172</th>\n",
       "      <td>NaN</td>\n",
       "      <td>NaN</td>\n",
       "      <td>NaN</td>\n",
       "    </tr>\n",
       "    <tr>\n",
       "      <th>173</th>\n",
       "      <td>NaN</td>\n",
       "      <td>NaN</td>\n",
       "      <td>NaN</td>\n",
       "    </tr>\n",
       "    <tr>\n",
       "      <th>174</th>\n",
       "      <td>NaN</td>\n",
       "      <td>NaN</td>\n",
       "      <td>NaN</td>\n",
       "    </tr>\n",
       "  </tbody>\n",
       "</table>\n",
       "<p>175 rows × 3 columns</p>\n",
       "</div>"
      ],
      "text/plain": [
       "     University Rating  CGPA  Research\n",
       "0                  NaN   NaN       NaN\n",
       "1                  NaN   NaN       NaN\n",
       "2                  NaN   NaN       NaN\n",
       "3                  NaN   NaN       NaN\n",
       "4                  NaN   NaN       NaN\n",
       "..                 ...   ...       ...\n",
       "170                NaN   NaN       NaN\n",
       "171                NaN   NaN       NaN\n",
       "172                NaN   NaN       NaN\n",
       "173                NaN   NaN       NaN\n",
       "174                NaN   NaN       NaN\n",
       "\n",
       "[175 rows x 3 columns]"
      ]
     },
     "execution_count": 204,
     "metadata": {},
     "output_type": "execute_result"
    }
   ],
   "source": [
    "X3 = np.ones((len(X1),3))\n",
    "X3[:]=np.nan\n",
    "X3 = pd.DataFrame(X3,columns=selected_cols)\n",
    "X3.to_csv(\"data/pruebas/prueba3.csv\")\n",
    "X3.to_json(\"data/pruebas/prueba3.json\")\n",
    "X3"
   ]
  },
  {
   "cell_type": "code",
   "execution_count": 191,
   "metadata": {},
   "outputs": [
    {
     "name": "stdout",
     "output_type": "stream",
     "text": [
      "     University Rating  CGPA  Research\n",
      "0                  NaN   NaN       NaN\n",
      "1                  NaN   NaN       NaN\n",
      "2                  NaN   NaN       NaN\n",
      "3                  NaN   NaN       NaN\n",
      "4                  NaN   NaN       NaN\n",
      "..                 ...   ...       ...\n",
      "170                NaN   NaN       NaN\n",
      "171                NaN   NaN       NaN\n",
      "172                NaN   NaN       NaN\n",
      "173                NaN   NaN       NaN\n",
      "174                NaN   NaN       NaN\n",
      "\n",
      "[175 rows x 3 columns]\n",
      "[0.25271725 0.25271725 0.25271725 0.25271725 0.25271725 0.25271725\n",
      " 0.25271725 0.25271725 0.25271725 0.25271725 0.25271725 0.25271725\n",
      " 0.25271725 0.25271725 0.25271725 0.25271725 0.25271725 0.25271725\n",
      " 0.25271725 0.25271725 0.25271725 0.25271725 0.25271725 0.25271725\n",
      " 0.25271725 0.25271725 0.25271725 0.25271725 0.25271725 0.25271725\n",
      " 0.25271725 0.25271725 0.25271725 0.25271725 0.25271725 0.25271725\n",
      " 0.25271725 0.25271725 0.25271725 0.25271725 0.25271725 0.25271725\n",
      " 0.25271725 0.25271725 0.25271725 0.25271725 0.25271725 0.25271725\n",
      " 0.25271725 0.25271725 0.25271725 0.25271725 0.25271725 0.25271725\n",
      " 0.25271725 0.25271725 0.25271725 0.25271725 0.25271725 0.25271725\n",
      " 0.25271725 0.25271725 0.25271725 0.25271725 0.25271725 0.25271725\n",
      " 0.25271725 0.25271725 0.25271725 0.25271725 0.25271725 0.25271725\n",
      " 0.25271725 0.25271725 0.25271725 0.25271725 0.25271725 0.25271725\n",
      " 0.25271725 0.25271725 0.25271725 0.25271725 0.25271725 0.25271725\n",
      " 0.25271725 0.25271725 0.25271725 0.25271725 0.25271725 0.25271725\n",
      " 0.25271725 0.25271725 0.25271725 0.25271725 0.25271725 0.25271725\n",
      " 0.25271725 0.25271725 0.25271725 0.25271725 0.25271725 0.25271725\n",
      " 0.25271725 0.25271725 0.25271725 0.25271725 0.25271725 0.25271725\n",
      " 0.25271725 0.25271725 0.25271725 0.25271725 0.25271725 0.25271725\n",
      " 0.25271725 0.25271725 0.25271725 0.25271725 0.25271725 0.25271725\n",
      " 0.25271725 0.25271725 0.25271725 0.25271725 0.25271725 0.25271725\n",
      " 0.25271725 0.25271725 0.25271725 0.25271725 0.25271725 0.25271725\n",
      " 0.25271725 0.25271725 0.25271725 0.25271725 0.25271725 0.25271725\n",
      " 0.25271725 0.25271725 0.25271725 0.25271725 0.25271725 0.25271725\n",
      " 0.25271725 0.25271725 0.25271725 0.25271725 0.25271725 0.25271725\n",
      " 0.25271725 0.25271725 0.25271725 0.25271725 0.25271725 0.25271725\n",
      " 0.25271725 0.25271725 0.25271725 0.25271725 0.25271725 0.25271725\n",
      " 0.25271725 0.25271725 0.25271725 0.25271725 0.25271725 0.25271725\n",
      " 0.25271725 0.25271725 0.25271725 0.25271725 0.25271725 0.25271725\n",
      " 0.25271725]\n"
     ]
    }
   ],
   "source": [
    "\"Resultados sin sentido\"\n",
    "try:\n",
    "    res = p2.predict(X3)\n",
    "    print(res)\n",
    "except Exception as err:\n",
    "    print(err)"
   ]
  },
  {
   "cell_type": "code",
   "execution_count": 216,
   "metadata": {},
   "outputs": [
    {
     "name": "stdout",
     "output_type": "stream",
     "text": [
      "0\n"
     ]
    },
    {
     "name": "stderr",
     "output_type": "stream",
     "text": [
      "/home/valentina/anaconda3/lib/python3.7/site-packages/ipykernel_launcher.py:2: SettingWithCopyWarning: \n",
      "A value is trying to be set on a copy of a slice from a DataFrame.\n",
      "Try using .loc[row_indexer,col_indexer] = value instead\n",
      "\n",
      "See the caveats in the documentation: https://pandas.pydata.org/pandas-docs/stable/user_guide/indexing.html#returning-a-view-versus-a-copy\n",
      "  \n",
      "/home/valentina/anaconda3/lib/python3.7/site-packages/ipykernel_launcher.py:3: SettingWithCopyWarning: \n",
      "A value is trying to be set on a copy of a slice from a DataFrame.\n",
      "Try using .loc[row_indexer,col_indexer] = value instead\n",
      "\n",
      "See the caveats in the documentation: https://pandas.pydata.org/pandas-docs/stable/user_guide/indexing.html#returning-a-view-versus-a-copy\n",
      "  This is separate from the ipykernel package so we can avoid doing imports until\n",
      "/home/valentina/anaconda3/lib/python3.7/site-packages/ipykernel_launcher.py:4: SettingWithCopyWarning: \n",
      "A value is trying to be set on a copy of a slice from a DataFrame.\n",
      "Try using .loc[row_indexer,col_indexer] = value instead\n",
      "\n",
      "See the caveats in the documentation: https://pandas.pydata.org/pandas-docs/stable/user_guide/indexing.html#returning-a-view-versus-a-copy\n",
      "  after removing the cwd from sys.path.\n"
     ]
    },
    {
     "data": {
      "text/html": [
       "<div>\n",
       "<style scoped>\n",
       "    .dataframe tbody tr th:only-of-type {\n",
       "        vertical-align: middle;\n",
       "    }\n",
       "\n",
       "    .dataframe tbody tr th {\n",
       "        vertical-align: top;\n",
       "    }\n",
       "\n",
       "    .dataframe thead th {\n",
       "        text-align: right;\n",
       "    }\n",
       "</style>\n",
       "<table border=\"1\" class=\"dataframe\">\n",
       "  <thead>\n",
       "    <tr style=\"text-align: right;\">\n",
       "      <th></th>\n",
       "      <th>University Rating</th>\n",
       "      <th>CGPA</th>\n",
       "      <th>Research</th>\n",
       "    </tr>\n",
       "  </thead>\n",
       "  <tbody>\n",
       "    <tr>\n",
       "      <th>0</th>\n",
       "      <td>2</td>\n",
       "      <td>3.417176</td>\n",
       "      <td>1</td>\n",
       "    </tr>\n",
       "    <tr>\n",
       "      <th>1</th>\n",
       "      <td>2</td>\n",
       "      <td>3.428493</td>\n",
       "      <td>0</td>\n",
       "    </tr>\n",
       "    <tr>\n",
       "      <th>2</th>\n",
       "      <td>1</td>\n",
       "      <td>3.379155</td>\n",
       "      <td>0</td>\n",
       "    </tr>\n",
       "    <tr>\n",
       "      <th>3</th>\n",
       "      <td>3</td>\n",
       "      <td>3.457475</td>\n",
       "      <td>0</td>\n",
       "    </tr>\n",
       "    <tr>\n",
       "      <th>4</th>\n",
       "      <td>2</td>\n",
       "      <td>3.386548</td>\n",
       "      <td>1</td>\n",
       "    </tr>\n",
       "    <tr>\n",
       "      <th>...</th>\n",
       "      <td>...</td>\n",
       "      <td>...</td>\n",
       "      <td>...</td>\n",
       "    </tr>\n",
       "    <tr>\n",
       "      <th>170</th>\n",
       "      <td>3</td>\n",
       "      <td>3.446717</td>\n",
       "      <td>0</td>\n",
       "    </tr>\n",
       "    <tr>\n",
       "      <th>171</th>\n",
       "      <td>0</td>\n",
       "      <td>3.369504</td>\n",
       "      <td>1</td>\n",
       "    </tr>\n",
       "    <tr>\n",
       "      <th>172</th>\n",
       "      <td>0</td>\n",
       "      <td>3.373277</td>\n",
       "      <td>1</td>\n",
       "    </tr>\n",
       "    <tr>\n",
       "      <th>173</th>\n",
       "      <td>1</td>\n",
       "      <td>3.402069</td>\n",
       "      <td>1</td>\n",
       "    </tr>\n",
       "    <tr>\n",
       "      <th>174</th>\n",
       "      <td>3</td>\n",
       "      <td>3.424582</td>\n",
       "      <td>0</td>\n",
       "    </tr>\n",
       "  </tbody>\n",
       "</table>\n",
       "<p>175 rows × 3 columns</p>\n",
       "</div>"
      ],
      "text/plain": [
       "     University Rating      CGPA  Research\n",
       "0                    2  3.417176         1\n",
       "1                    2  3.428493         0\n",
       "2                    1  3.379155         0\n",
       "3                    3  3.457475         0\n",
       "4                    2  3.386548         1\n",
       "..                 ...       ...       ...\n",
       "170                  3  3.446717         0\n",
       "171                  0  3.369504         1\n",
       "172                  0  3.373277         1\n",
       "173                  1  3.402069         1\n",
       "174                  3  3.424582         0\n",
       "\n",
       "[175 rows x 3 columns]"
      ]
     },
     "execution_count": 216,
     "metadata": {},
     "output_type": "execute_result"
    }
   ],
   "source": [
    "X4 = df_recent[selected_cols]\n",
    "X4[selected_cols[0]]-=1\n",
    "X4[selected_cols[1]]+=np.mean(X4[selected_cols[1]])\n",
    "X4[selected_cols[2]]=-(X4[selected_cols[2]]-1)\n",
    "X4.to_csv(\"data/pruebas/prueba4.csv\")\n",
    "X4.to_json(\"data/pruebas/prueba4.json\")\n",
    "print(min(X4[selected_cols[0]]))\n",
    "X4"
   ]
  },
  {
   "cell_type": "code",
   "execution_count": 209,
   "metadata": {
    "scrolled": false
   },
   "outputs": [
    {
     "name": "stdout",
     "output_type": "stream",
     "text": [
      "[1.12398136 1.01479529 0.74573153 1.28070642 1.11916247 0.85712365\n",
      " 1.27861229 1.27838555 1.12038774 1.28173889 0.85435707 0.85579141\n",
      " 1.01316073 1.11616236 0.85160205 1.27936474 1.54215129 0.74705227\n",
      " 1.27732123 0.85520319 1.01761709 1.28319755 1.53975798 1.12095474\n",
      " 1.11548381 0.59549537 1.5419291  0.85486556 1.00965351 1.12460786\n",
      " 0.86134108 0.59648669 1.28239763 0.853504   1.53899933 0.74964537\n",
      " 1.28055814 0.5976316  1.11800593 0.85679217 1.53838861 0.85307481\n",
      " 0.85770123 1.00818487 0.8616587  0.85670914 0.74964537 1.27539457\n",
      " 0.59314519 0.85794781 0.85469634 0.48689774 0.74851865 1.54449434\n",
      " 0.86562882 1.01409777 0.8600611  1.53838861 1.01464067 0.85965794\n",
      " 1.01323912 1.27996304 0.85495007 0.8586841  0.85637635 0.48890752\n",
      " 1.27996304 1.65474498 0.75736945 1.11616236 0.8560425  1.27013691\n",
      " 1.37575438 0.59482926 1.54449434 1.64673192 0.59373772 1.01394216\n",
      " 1.12499759 1.01776758 1.28055814 0.85670914 1.54500044 1.01245259\n",
      " 1.38898422 1.38321656 0.85579141 1.01378632 0.85786568 0.85469634\n",
      " 1.01409777 1.01670982 0.59082747 1.00965351 0.85786568 0.5922072\n",
      " 1.38852777 1.3840936  1.1235091  1.54111056 0.85827568 1.5419291\n",
      " 1.27823414 0.59143338 1.12538593 1.54058652 0.86377858 1.01370832\n",
      " 1.27981377 1.28115007 0.59348419 0.85478099 1.12119681 1.28217848\n",
      " 1.27973906 1.53915148 1.54463918 0.58986803 1.27624649 0.85670914\n",
      " 1.64673192 1.00818487 0.591864   1.28232463 1.01548838 1.64093126\n",
      " 1.27319538 1.01300376 1.00908479 0.85620955 1.01761709 0.74439399\n",
      " 0.85712365 1.01678571 0.75186393 1.12071211 0.85745408 1.54185493\n",
      " 1.53815871 1.54347528 1.12538593 0.59271989 1.38329659 0.85520319\n",
      " 1.01409777 1.12335122 0.85478099 1.38329659 0.85629298 0.74964537\n",
      " 0.489701   0.85290263 1.11505745 1.27701524 1.12327219 1.54111056\n",
      " 0.47505054 1.376525   1.01494969 1.54028595 0.5922072  1.27921466\n",
      " 1.12239904 0.85949625 1.11437161 0.85401668 0.59246386 1.11616236\n",
      " 0.75457475 1.00526927 1.27898916 0.59390639 0.59449462 0.86030226\n",
      " 1.27547229]\n"
     ]
    },
    {
     "name": "stderr",
     "output_type": "stream",
     "text": [
      "/home/valentina/anaconda3/lib/python3.7/site-packages/ipykernel_launcher.py:4: SettingWithCopyWarning: \n",
      "A value is trying to be set on a copy of a slice from a DataFrame.\n",
      "Try using .loc[row_indexer,col_indexer] = value instead\n",
      "\n",
      "See the caveats in the documentation: https://pandas.pydata.org/pandas-docs/stable/user_guide/indexing.html#returning-a-view-versus-a-copy\n",
      "  after removing the cwd from sys.path.\n"
     ]
    }
   ],
   "source": [
    "\"Resultados con sentido\"\n",
    "try:\n",
    "    res = p2.predict(X4)\n",
    "    print(res)\n",
    "except Exception as err:\n",
    "    print(err)"
   ]
  },
  {
   "cell_type": "code",
   "execution_count": 217,
   "metadata": {},
   "outputs": [],
   "source": [
    "df_recent.to_csv(\"data/pruebas/prueba5.csv\")\n",
    "df_recent.to_json(\"data/pruebas/prueba5.json\")"
   ]
  },
  {
   "cell_type": "code",
   "execution_count": 215,
   "metadata": {},
   "outputs": [
    {
     "name": "stdout",
     "output_type": "stream",
     "text": [
      "[1.11758112 1.23108126 0.95878724 1.49883805 1.11075422 0.84840064\n",
      " 1.49591283 1.49559546 1.11249594 1.50027637 0.84444705 0.84649948\n",
      " 1.22878006 1.10647213 0.84048833 1.49696514 1.76034129 0.96066866\n",
      " 1.49410401 0.84565848 1.23503799 1.50230406 1.75699814 1.11330054\n",
      " 1.10550013 0.58663127 1.7600315  0.84517533 1.223819   1.11846419\n",
      " 0.85438719 0.58804365 1.50119271 0.8432236  1.75593545 0.96434882\n",
      " 1.49863128 0.58967151 1.10910644 0.84792807 1.75507895 0.84260729\n",
      " 0.84922336 1.22173182 0.85483613 0.84780964 0.96434882 1.4913969\n",
      " 0.58327193 0.8495743  0.84493305 0.70099521 0.96275199 1.76360086\n",
      " 0.86042562 1.2301001  0.85257533 1.75507895 1.23086387 0.85200375\n",
      " 1.22889059 1.49780088 0.8452963  0.85062126 0.84733482 0.70384293\n",
      " 1.49780088 1.65161333 0.97520729 1.10647213 0.84685817 1.48396055\n",
      " 1.36532439 0.58568071 1.76360086 1.64039605 0.58412035 1.22988104\n",
      " 1.11901302 1.23524845 1.49863128 0.84780964 1.76430321 1.22778098\n",
      " 1.38408718 1.37596481 0.84649948 1.2296616  0.84945743 0.84493305\n",
      " 1.2301001  1.23376798 0.5799436  1.223819   0.84945743 0.58192681\n",
      " 1.38344746 1.37720545 1.11691477 1.75888924 0.85004069 1.7600315\n",
      " 1.49538345 0.5808152  1.1195595  1.75815709 0.8578257  1.22955174\n",
      " 1.49759245 1.49945641 0.58375745 0.84505425 1.1136438  1.50088798\n",
      " 1.49748811 1.75614869 1.76380191 0.57856125 1.49259507 0.84780964\n",
      " 1.64039605 1.22173182 0.581434   1.50109121 1.23205496 1.63217305\n",
      " 1.48829524 1.22855872 1.22301144 0.84709672 1.23503799 0.95687695\n",
      " 0.84840064 1.2338743  0.96748326 1.11295634 0.84887143 1.75992807\n",
      " 1.75475629 1.76218477 1.1195595  0.58266233 1.3760781  0.84565848\n",
      " 1.2301001  1.11669188 0.84505425 1.3760781  0.84721583 0.96434882\n",
      " 0.7049643  0.84235989 1.10488871 1.49367469 1.11658029 1.75888924\n",
      " 0.68397881 1.36643044 1.23129828 1.75773685 0.58192681 1.49675536\n",
      " 1.11534624 0.85177439 1.10390408 0.84395913 0.58229512 1.10647213\n",
      " 0.97129594 1.21757069 1.49644005 0.58436168 0.58520268 0.85291704\n",
      " 1.49150629]\n"
     ]
    }
   ],
   "source": [
    "\"Resultados con sentido\"\n",
    "try:\n",
    "    res = p2.predict(df_recent)\n",
    "    print(res)\n",
    "except Exception as err:\n",
    "    print(err)"
   ]
  }
 ],
 "metadata": {
  "kernelspec": {
   "display_name": "Python 3",
   "language": "python",
   "name": "python3"
  },
  "language_info": {
   "codemirror_mode": {
    "name": "ipython",
    "version": 3
   },
   "file_extension": ".py",
   "mimetype": "text/x-python",
   "name": "python",
   "nbconvert_exporter": "python",
   "pygments_lexer": "ipython3",
   "version": "3.7.3"
  }
 },
 "nbformat": 4,
 "nbformat_minor": 5
}
